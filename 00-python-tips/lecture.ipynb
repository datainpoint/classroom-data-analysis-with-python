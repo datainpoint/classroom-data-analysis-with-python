{
 "cells": [
  {
   "cell_type": "markdown",
   "id": "pending-bottle",
   "metadata": {
    "slideshow": {
     "slide_type": "slide"
    }
   },
   "source": [
    "# Python 資料分析\n",
    "\n",
    "> Python 重要技巧：Comprehensions、Generators、環境管理與資料載入\n",
    "\n",
    "[數據交點](https://www.datainpoint.com/) | 郭耀仁 <yaojenkuo@datainpoint.com>"
   ]
  },
  {
   "cell_type": "code",
   "execution_count": 1,
   "id": "inner-carbon",
   "metadata": {
    "slideshow": {
     "slide_type": "subslide"
    }
   },
   "outputs": [],
   "source": [
    "import json\n",
    "import sqlite3\n",
    "import pandas as pd"
   ]
  },
  {
   "cell_type": "markdown",
   "id": "polished-variety",
   "metadata": {
    "slideshow": {
     "slide_type": "slide"
    }
   },
   "source": [
    "## Comprehensions"
   ]
  },
  {
   "cell_type": "markdown",
   "id": "vital-classification",
   "metadata": {
    "slideshow": {
     "slide_type": "subslide"
    }
   },
   "source": [
    "## 什麼是 Comprehensions\n",
    "\n",
    "> Comprehensions 指的是依賴序列來建立序列的語法，Python 2 推出 List comprehension，Python 3 推出 Dictionary comprehension 以及 Set comprehension。\n",
    "\n",
    "來源：<https://python-3-patterns-idioms-test.readthedocs.io/en/latest/>"
   ]
  },
  {
   "cell_type": "markdown",
   "id": "hundred-minnesota",
   "metadata": {
    "slideshow": {
     "slide_type": "subslide"
    }
   },
   "source": [
    "## 建立 `list` 的傳統方式"
   ]
  },
  {
   "cell_type": "code",
   "execution_count": 2,
   "id": "labeled-trance",
   "metadata": {},
   "outputs": [
    {
     "name": "stdout",
     "output_type": "stream",
     "text": [
      "[4, 9, 25, 49, 121]\n"
     ]
    }
   ],
   "source": [
    "primes = [2, 3, 5, 7, 11]\n",
    "squared_primes = []\n",
    "for p in primes:\n",
    "    squared_primes.append(p**2)\n",
    "print(squared_primes)"
   ]
  },
  {
   "cell_type": "markdown",
   "id": "chinese-yukon",
   "metadata": {
    "slideshow": {
     "slide_type": "subslide"
    }
   },
   "source": [
    "## 以 `List comprehension` 建立 `list`"
   ]
  },
  {
   "cell_type": "code",
   "execution_count": 3,
   "id": "suburban-lambda",
   "metadata": {},
   "outputs": [
    {
     "name": "stdout",
     "output_type": "stream",
     "text": [
      "[4, 9, 25, 49, 121]\n"
     ]
    }
   ],
   "source": [
    "primes = [2, 3, 5, 7, 11]\n",
    "squared_primes = [p**2 for p in primes]\n",
    "print(squared_primes)"
   ]
  },
  {
   "cell_type": "markdown",
   "id": "included-coach",
   "metadata": {
    "slideshow": {
     "slide_type": "subslide"
    }
   },
   "source": [
    "## 在 `List comprehension` 中加入 `if` 條件判斷"
   ]
  },
  {
   "cell_type": "code",
   "execution_count": 4,
   "id": "artistic-royalty",
   "metadata": {},
   "outputs": [
    {
     "name": "stdout",
     "output_type": "stream",
     "text": [
      "[9, 25, 49, 121]\n"
     ]
    }
   ],
   "source": [
    "primes = [2, 3, 5, 7, 11]\n",
    "squared_odd_primes = [p**2 for p in primes if p % 2 == 1]\n",
    "print(squared_odd_primes)"
   ]
  },
  {
   "cell_type": "markdown",
   "id": "returning-quantum",
   "metadata": {
    "slideshow": {
     "slide_type": "subslide"
    }
   },
   "source": [
    "## 在 `List comprehension` 中加入 `if-else` 條件判斷"
   ]
  },
  {
   "cell_type": "code",
   "execution_count": 5,
   "id": "american-acquisition",
   "metadata": {},
   "outputs": [
    {
     "name": "stdout",
     "output_type": "stream",
     "text": [
      "[True, False, False, False, False]\n"
     ]
    }
   ],
   "source": [
    "primes = [2, 3, 5, 7, 11]\n",
    "is_even_primes = [True if p % 2 == 0 else False for p in primes]\n",
    "print(is_even_primes)"
   ]
  },
  {
   "cell_type": "markdown",
   "id": "labeled-camping",
   "metadata": {
    "slideshow": {
     "slide_type": "subslide"
    }
   },
   "source": [
    "## 以 `Set comprehension` 建立 `set`"
   ]
  },
  {
   "cell_type": "code",
   "execution_count": 6,
   "id": "expensive-picnic",
   "metadata": {},
   "outputs": [
    {
     "name": "stdout",
     "output_type": "stream",
     "text": [
      "{4, 9, 49, 121, 25}\n",
      "<class 'set'>\n"
     ]
    }
   ],
   "source": [
    "primes = [2, 3, 5, 7, 11]\n",
    "squared_primes = {p**2 for p in primes}\n",
    "print(squared_primes)\n",
    "print(type(squared_primes))"
   ]
  },
  {
   "cell_type": "markdown",
   "id": "meaning-kansas",
   "metadata": {
    "slideshow": {
     "slide_type": "subslide"
    }
   },
   "source": [
    "## 以 `Dictionary comprehension` 建立 `dict`"
   ]
  },
  {
   "cell_type": "code",
   "execution_count": 7,
   "id": "mature-birth",
   "metadata": {},
   "outputs": [
    {
     "name": "stdout",
     "output_type": "stream",
     "text": [
      "{2: 4, 3: 9, 5: 25, 7: 49, 11: 121}\n",
      "<class 'dict'>\n"
     ]
    }
   ],
   "source": [
    "primes = [2, 3, 5, 7, 11]\n",
    "squared_primes = {p: p**2 for p in primes}\n",
    "print(squared_primes)\n",
    "print(type(squared_primes))"
   ]
  },
  {
   "cell_type": "markdown",
   "id": "dietary-fiction",
   "metadata": {
    "slideshow": {
     "slide_type": "subslide"
    }
   },
   "source": [
    "## 以 `List comprehension` 建立 `list` 時不小心使用了小括號而非中括號"
   ]
  },
  {
   "cell_type": "code",
   "execution_count": 8,
   "id": "provincial-champion",
   "metadata": {},
   "outputs": [
    {
     "name": "stdout",
     "output_type": "stream",
     "text": [
      "<generator object <genexpr> at 0x7ff345f85350>\n",
      "<class 'generator'>\n"
     ]
    }
   ],
   "source": [
    "primes = [2, 3, 5, 7, 11]\n",
    "squared_primes = (p**2 for p in primes)\n",
    "print(squared_primes)\n",
    "print(type(squared_primes))"
   ]
  },
  {
   "cell_type": "markdown",
   "id": "suffering-reviewer",
   "metadata": {
    "slideshow": {
     "slide_type": "slide"
    }
   },
   "source": [
    "## Generators"
   ]
  },
  {
   "cell_type": "markdown",
   "id": "animated-advocate",
   "metadata": {
    "slideshow": {
     "slide_type": "subslide"
    }
   },
   "source": [
    "## 什麼是 Generators\n",
    "\n",
    "Generators 與 Comprehensions 相似，不同的地方在於 Comprehensions 所產出的資料結構中儲存的資料值，Generators 則是儲存資料值的產生規則，必須經過實例化才會將資料值儲存到資料結構中。若是以料理來比喻，Comprehensions 的輸出就像是最後端上桌的菜餚，而 Generators 的輸出則像是菜餚的食譜。"
   ]
  },
  {
   "cell_type": "markdown",
   "id": "structural-quarter",
   "metadata": {
    "slideshow": {
     "slide_type": "subslide"
    }
   },
   "source": [
    "## Generators 的特性\n",
    "\n",
    "- 具備儲存與計算的效率性。\n",
    "- 僅能實例化一次。"
   ]
  },
  {
   "cell_type": "code",
   "execution_count": 9,
   "id": "equipped-halloween",
   "metadata": {
    "slideshow": {
     "slide_type": "-"
    }
   },
   "outputs": [
    {
     "name": "stdout",
     "output_type": "stream",
     "text": [
      "[4, 9, 25, 49, 121]\n",
      "[]\n"
     ]
    }
   ],
   "source": [
    "print(list(squared_primes))\n",
    "print(list(squared_primes))"
   ]
  },
  {
   "cell_type": "markdown",
   "id": "cheap-promise",
   "metadata": {
    "slideshow": {
     "slide_type": "subslide"
    }
   },
   "source": [
    "## 我們為什麼需要認識 Generators\n",
    "\n",
    "- 要混淆使用者的大腦（X）\n",
    "- 很多內建函數的輸出有 Generators 的特性（O）"
   ]
  },
  {
   "cell_type": "markdown",
   "id": "fluid-governor",
   "metadata": {
    "slideshow": {
     "slide_type": "subslide"
    }
   },
   "source": [
    "## 具有 Generators 特性的內建函數\n",
    "\n",
    "- 迭代器函數\n",
    "    - `enumerate`\n",
    "    - `zip`\n",
    "- 函數型函數\n",
    "    - `map`\n",
    "    - `filter`"
   ]
  },
  {
   "cell_type": "markdown",
   "id": "viral-importance",
   "metadata": {
    "slideshow": {
     "slide_type": "subslide"
    }
   },
   "source": [
    "## `enumerate` 函數\n",
    "\n",
    "讓 `for` 迴圈可以同時走訪資料結構的「索引」與「資料值」。"
   ]
  },
  {
   "cell_type": "code",
   "execution_count": 10,
   "id": "square-helena",
   "metadata": {
    "slideshow": {
     "slide_type": "subslide"
    }
   },
   "outputs": [
    {
     "name": "stdout",
     "output_type": "stream",
     "text": [
      "<enumerate object at 0x7ff345f91f40>\n",
      "[(0, 'The Avengers'), (1, 'Avengers: Age of Ultron'), (2, 'Avengers: Infinity War'), (3, 'Avengers: Endgame')]\n",
      "[]\n"
     ]
    }
   ],
   "source": [
    "avenger_movies = ['The Avengers', 'Avengers: Age of Ultron', 'Avengers: Infinity War', 'Avengers: Endgame']\n",
    "enum = enumerate(avenger_movies)\n",
    "print(enum)\n",
    "print(list(enum))\n",
    "print(list(enum))"
   ]
  },
  {
   "cell_type": "code",
   "execution_count": 11,
   "id": "synthetic-distance",
   "metadata": {
    "slideshow": {
     "slide_type": "subslide"
    }
   },
   "outputs": [
    {
     "name": "stdout",
     "output_type": "stream",
     "text": [
      "0: The Avengers\n",
      "1: Avengers: Age of Ultron\n",
      "2: Avengers: Infinity War\n",
      "3: Avengers: Endgame\n"
     ]
    }
   ],
   "source": [
    "avenger_movies = ['The Avengers', 'Avengers: Age of Ultron', 'Avengers: Infinity War', 'Avengers: Endgame']\n",
    "for index, item in enumerate(avenger_movies):\n",
    "    print(\"{}: {}\".format(index, item))"
   ]
  },
  {
   "cell_type": "markdown",
   "id": "postal-walnut",
   "metadata": {
    "slideshow": {
     "slide_type": "subslide"
    }
   },
   "source": [
    "## `zip` 函數\n",
    "\n",
    "讓 `for` 迴圈可以同時走訪多個資料結構的「資料值」。"
   ]
  },
  {
   "cell_type": "code",
   "execution_count": 12,
   "id": "checked-suspect",
   "metadata": {
    "slideshow": {
     "slide_type": "subslide"
    }
   },
   "outputs": [
    {
     "name": "stdout",
     "output_type": "stream",
     "text": [
      "<zip object at 0x7ff345f86800>\n",
      "[(2012, 'The Avengers'), (2015, 'Avengers: Age of Ultron'), (2018, 'Avengers: Infinity War'), (2019, 'Avengers: Endgame')]\n",
      "[]\n"
     ]
    }
   ],
   "source": [
    "avenger_movies = ['The Avengers', 'Avengers: Age of Ultron', 'Avengers: Infinity War', 'Avengers: Endgame']\n",
    "release_years = [2012, 2015, 2018, 2019]\n",
    "zipped = zip(release_years, avenger_movies)\n",
    "print(zipped)\n",
    "print(list(zipped))\n",
    "print(list(zipped))"
   ]
  },
  {
   "cell_type": "code",
   "execution_count": 13,
   "id": "transparent-inquiry",
   "metadata": {
    "slideshow": {
     "slide_type": "subslide"
    }
   },
   "outputs": [
    {
     "name": "stdout",
     "output_type": "stream",
     "text": [
      "The Avengers was released in 2012.\n",
      "Avengers: Age of Ultron was released in 2015.\n",
      "Avengers: Infinity War was released in 2018.\n",
      "Avengers: Endgame was released in 2019.\n"
     ]
    }
   ],
   "source": [
    "avenger_movies = ['The Avengers', 'Avengers: Age of Ultron', 'Avengers: Infinity War', 'Avengers: Endgame']\n",
    "release_years = [2012, 2015, 2018, 2019]\n",
    "for year, movie in zip(release_years, avenger_movies):\n",
    "    print(\"{} was released in {}.\".format(movie, year))"
   ]
  },
  {
   "cell_type": "markdown",
   "id": "synthetic-snapshot",
   "metadata": {
    "slideshow": {
     "slide_type": "subslide"
    }
   },
   "source": [
    "## `map` 函數\n",
    "\n",
    "逐次把資料結構的「資料值」當作參數，依據傳給使用（呼叫）的函數，像 `map` 這樣的函數也稱為函數型函數（Functional functions）或者高階函數（Higher-order functions）。"
   ]
  },
  {
   "cell_type": "code",
   "execution_count": 14,
   "id": "caring-quarterly",
   "metadata": {
    "slideshow": {
     "slide_type": "subslide"
    }
   },
   "outputs": [
    {
     "name": "stdout",
     "output_type": "stream",
     "text": [
      "<map object at 0x7ff345f93040>\n",
      "[2012.0, 2015.0, 2018.0, 2019.0]\n",
      "[]\n"
     ]
    }
   ],
   "source": [
    "release_years = [2012, 2015, 2018, 2019]\n",
    "mapped = map(float, release_years)\n",
    "print(mapped)\n",
    "print(list(mapped))\n",
    "print(list(mapped))"
   ]
  },
  {
   "cell_type": "markdown",
   "id": "bizarre-velvet",
   "metadata": {
    "slideshow": {
     "slide_type": "subslide"
    }
   },
   "source": [
    "## `filter` 函數\n",
    "\n",
    "逐次把資料結構的「資料值」當作參數，依據傳給使用（呼叫）的函數，保留函數回傳值為 `True` 的輸出，像 `filter` 這樣的函數也稱為函數型函數（Functional functions）或者高階函數（Higher-order functions）。"
   ]
  },
  {
   "cell_type": "code",
   "execution_count": 15,
   "id": "intensive-pollution",
   "metadata": {
    "slideshow": {
     "slide_type": "subslide"
    }
   },
   "outputs": [
    {
     "name": "stdout",
     "output_type": "stream",
     "text": [
      "<filter object at 0x7ff345f939a0>\n",
      "[True, True, True, True]\n",
      "[]\n"
     ]
    }
   ],
   "source": [
    "bools = [False, True, True, True, True]\n",
    "filtered = filter(None, bools)\n",
    "print(filtered)\n",
    "print(list(filtered))\n",
    "print(list(filtered))"
   ]
  },
  {
   "cell_type": "markdown",
   "id": "suspected-tribune",
   "metadata": {
    "slideshow": {
     "slide_type": "subslide"
    }
   },
   "source": [
    "## Python 使用者習慣將 `map` 與 `filter` 函數搭配 Lambda 函數\n",
    "\n",
    "Lambda 函數也稱為「匿名函數」，不同於使用 `def` 語法定義函數，Lambda 可以在不指定函數名稱的情況下「同時」定義與使用，並且只有在定義的當下被使用。"
   ]
  },
  {
   "cell_type": "code",
   "execution_count": 16,
   "id": "minus-sacramento",
   "metadata": {
    "slideshow": {
     "slide_type": "subslide"
    }
   },
   "outputs": [
    {
     "name": "stdout",
     "output_type": "stream",
     "text": [
      "[4, 9, 25, 49, 121]\n",
      "[11]\n"
     ]
    }
   ],
   "source": [
    "def squared(x):\n",
    "    return x**2\n",
    "def larger_than_ten(x):\n",
    "    return x>=10\n",
    "\n",
    "primes = [2, 3, 5, 7, 11]\n",
    "print(list(map(squared, primes)))\n",
    "print(list(filter(larger_than_ten, primes)))"
   ]
  },
  {
   "cell_type": "code",
   "execution_count": 17,
   "id": "returning-supply",
   "metadata": {
    "slideshow": {
     "slide_type": "subslide"
    }
   },
   "outputs": [
    {
     "name": "stdout",
     "output_type": "stream",
     "text": [
      "[4, 9, 25, 49, 121]\n",
      "[11]\n"
     ]
    }
   ],
   "source": [
    "primes = [2, 3, 5, 7, 11]\n",
    "print(list(map(lambda x: x**2, primes)))        # so we don't waste a function name for an easy operation\n",
    "print(list(filter(lambda x: x >= 10, primes)))  # so we don't waste a function name for an easy operation"
   ]
  },
  {
   "cell_type": "markdown",
   "id": "boxed-rental",
   "metadata": {
    "slideshow": {
     "slide_type": "slide"
    }
   },
   "source": [
    "## 環境與模組管理"
   ]
  },
  {
   "cell_type": "markdown",
   "id": "designed-wallpaper",
   "metadata": {
    "slideshow": {
     "slide_type": "subslide"
    }
   },
   "source": [
    "## 什麼是環境與模組管理\n",
    "\n",
    "當開發專案數量增多時，就會開始有對應專案需求，而有不同的 Python 版本以及對應不同的模組版本需要安裝，在一台電腦管理軟體版本，確保各個專案的開發環境不會受到彼此影響，就稱為環境管理。"
   ]
  },
  {
   "cell_type": "markdown",
   "id": "ranking-institution",
   "metadata": {
    "slideshow": {
     "slide_type": "subslide"
    }
   },
   "source": [
    "## Python 標準的環境與模組管理工具\n",
    "\n",
    "- 環境管理：Python 的標準模組 `venv`：<https://docs.python.org/3/tutorial/venv.html>\n",
    "- 模組管理：Python 的模組 `pip`：<https://pip.pypa.io/en/stable>"
   ]
  },
  {
   "cell_type": "markdown",
   "id": "emerging-translation",
   "metadata": {
    "slideshow": {
     "slide_type": "subslide"
    }
   },
   "source": [
    "## Conda 既可以管理環境亦能夠管理模組\n",
    "\n",
    "Conda 是一個開源的跨平台、跨程式語言軟體，能夠在 Windows、macOS 與 Linux 上安裝運行，它被設計作為 Python、R、Lua、Scala 與 Java 等任何程式語言的模組、依賴性以及工作環境管理軟體。\n",
    "\n",
    "來源：<https://conda.io/projects/conda/en/latest/index.html>"
   ]
  },
  {
   "cell_type": "markdown",
   "id": "median-allergy",
   "metadata": {
    "slideshow": {
     "slide_type": "subslide"
    }
   },
   "source": [
    "## 獲得 conda 最簡便的方式\n",
    "\n",
    "- 安裝 [Miniconda](https://docs.conda.io/en/latest/miniconda.html)\n",
    "- 如何選擇？Miniconda 或者 Anaconda"
   ]
  },
  {
   "cell_type": "markdown",
   "id": "agricultural-brazilian",
   "metadata": {
    "slideshow": {
     "slide_type": "subslide"
    }
   },
   "source": [
    "## 運行 conda 的軟體\n",
    "\n",
    "- Windows 使用者：Anaconda Prompt 或 Anaconda PowerShell\n",
    "- macOS 使用者：Terminal（終端機）。"
   ]
  },
  {
   "cell_type": "markdown",
   "id": "august-salad",
   "metadata": {
    "slideshow": {
     "slide_type": "subslide"
    }
   },
   "source": [
    "## 檢視 conda 版本與安裝是否完成\n",
    "\n",
    "```bash\n",
    "conda --version\n",
    "```"
   ]
  },
  {
   "cell_type": "markdown",
   "id": "extensive-moisture",
   "metadata": {
    "slideshow": {
     "slide_type": "subslide"
    }
   },
   "source": [
    "## 檢視電腦中可使用與目前所在的環境\n",
    "\n",
    "```bash\n",
    "conda env list\n",
    "```"
   ]
  },
  {
   "cell_type": "markdown",
   "id": "declared-action",
   "metadata": {
    "slideshow": {
     "slide_type": "subslide"
    }
   },
   "source": [
    "## 建立全新且資源隔絕的環境\n",
    "\n",
    "```bash\n",
    "conda create --name pyda python=3\n",
    "```"
   ]
  },
  {
   "cell_type": "markdown",
   "id": "geographic-tablet",
   "metadata": {
    "slideshow": {
     "slide_type": "subslide"
    }
   },
   "source": [
    "## 啟動環境\n",
    "\n",
    "```bash\n",
    "conda activate pyda\n",
    "```"
   ]
  },
  {
   "cell_type": "markdown",
   "id": "professional-trainer",
   "metadata": {
    "slideshow": {
     "slide_type": "subslide"
    }
   },
   "source": [
    "## 檢視目前環境的模組\n",
    "\n",
    "```bash\n",
    "conda list\n",
    "```"
   ]
  },
  {
   "cell_type": "markdown",
   "id": "thermal-filling",
   "metadata": {
    "slideshow": {
     "slide_type": "subslide"
    }
   },
   "source": [
    "## 在目前環境安裝模組\n",
    "\n",
    "```bash\n",
    "conda install ipykernel numpy pandas openpyxl matplotlib # conda install module_name=MAJOR.MINOR.PATCH\n",
    "```"
   ]
  },
  {
   "cell_type": "markdown",
   "id": "heated-kruger",
   "metadata": {
    "slideshow": {
     "slide_type": "subslide"
    }
   },
   "source": [
    "## 檢視 Jupyter Notebook 核心\n",
    "\n",
    "```bash\n",
    "jupyter kernelspec list\n",
    "```"
   ]
  },
  {
   "cell_type": "markdown",
   "id": "alpine-irish",
   "metadata": {
    "slideshow": {
     "slide_type": "subslide"
    }
   },
   "source": [
    "## 新增 Jupyter Notebook 核心\n",
    "\n",
    "```bash\n",
    "python -m ipykernel install --user --name pyda --display-name \"Python Data Analysis\"\n",
    "```"
   ]
  },
  {
   "cell_type": "markdown",
   "id": "municipal-stomach",
   "metadata": {
    "slideshow": {
     "slide_type": "subslide"
    }
   },
   "source": [
    "## 移除 Jupyter Notebook 核心\n",
    "\n",
    "```bash\n",
    "jupyter kernelspec remove pyda\n",
    "```"
   ]
  },
  {
   "cell_type": "markdown",
   "id": "scheduled-first",
   "metadata": {
    "slideshow": {
     "slide_type": "subslide"
    }
   },
   "source": [
    "## 卸載環境\n",
    "\n",
    "```bash\n",
    "conda deactivate\n",
    "```"
   ]
  },
  {
   "cell_type": "markdown",
   "id": "respected-motivation",
   "metadata": {
    "slideshow": {
     "slide_type": "subslide"
    }
   },
   "source": [
    "## 移除環境\n",
    "\n",
    "```bash\n",
    "conda remove --name pyda --all\n",
    "```"
   ]
  },
  {
   "cell_type": "markdown",
   "id": "liable-mechanism",
   "metadata": {
    "slideshow": {
     "slide_type": "slide"
    }
   },
   "source": [
    "## 資料載入"
   ]
  },
  {
   "cell_type": "markdown",
   "id": "prospective-france",
   "metadata": {
    "slideshow": {
     "slide_type": "subslide"
    }
   },
   "source": [
    "## 常見來源\n",
    "\n",
    "- 純文字檔案\n",
    "    - `.txt`\n",
    "    - `.json`\n",
    "    - `.csv`\n",
    "- 關聯式資料庫的資料表\n",
    "- 試算表\n",
    "- 網頁資料"
   ]
  },
  {
   "cell_type": "markdown",
   "id": "environmental-bristol",
   "metadata": {
    "slideshow": {
     "slide_type": "subslide"
    }
   },
   "source": [
    "## 載入純文字檔案 `.txt`\n",
    "\n",
    "- 使用 `open()` 內建函數開啟檔案。\n",
    "- 使用檔案物件的 `readlines()` 方法載入。"
   ]
  },
  {
   "cell_type": "code",
   "execution_count": 18,
   "id": "pregnant-queensland",
   "metadata": {
    "slideshow": {
     "slide_type": "subslide"
    }
   },
   "outputs": [
    {
     "data": {
      "text/plain": [
       "list"
      ]
     },
     "execution_count": 18,
     "metadata": {},
     "output_type": "execute_result"
    }
   ],
   "source": [
    "file_path = \"../data/the_shawshank_redemption_summaries.txt\"\n",
    "with open(file_path) as file:\n",
    "    summaries = file.readlines()\n",
    "type(summaries)"
   ]
  },
  {
   "cell_type": "code",
   "execution_count": 19,
   "id": "spiritual-button",
   "metadata": {
    "slideshow": {
     "slide_type": "subslide"
    }
   },
   "outputs": [
    {
     "name": "stdout",
     "output_type": "stream",
     "text": [
      "Two imprisoned men bond over a number of years, finding solace and eventual redemption through acts of common decency.\n",
      "Chronicles the experiences of a formerly successful banker as a prisoner in the gloomy jailhouse of Shawshank after being found guilty of a crime he did not commit. The film portrays the man's unique way of dealing with his new, torturous life; along the way he befriends a number of fellow prisoners, most notably a wise long-term inmate named Red.\n",
      "After the murder of his wife, hotshot banker Andrew Dufresne is sent to Shawshank Prison, where the usual unpleasantness occurs. Over the years, he retains hope and eventually gains the respect of his fellow inmates, especially longtime convict \"Red\" Redding, a black marketeer, and becomes influential within the prison. Eventually, Andrew achieves his ends on his own terms.\n",
      "Andy Dufresne is sent to Shawshank Prison for the murder of his wife and her secret lover. He is very isolated and lonely at first, but realizes there is something deep inside your body that people can't touch or get to....'HOPE'. Andy becomes friends with prison 'fixer' Red, and Andy epitomizes why it is crucial to have dreams. His spirit and determination lead us into a world full of imagination, one filled with courage and desire. Will Andy ever realize his dreams?\n",
      "Bank Merchant Andy Dufresne is convicted of the murder of his wife and her lover, and sentenced to life imprisonment at Shawshank prison. Life seems to have taken a turn for the worse, but fortunately Andy befriends some of the other inmates, in particular a character known only as Red. Over time Andy finds ways to live out life with relative ease as one can in a prison, leaving a message for all that while the body may be locked away in a cell, the spirit can never be truly imprisoned.\n"
     ]
    }
   ],
   "source": [
    "for summary in summaries:\n",
    "    print(summary.strip())"
   ]
  },
  {
   "cell_type": "markdown",
   "id": "every-fifty",
   "metadata": {
    "slideshow": {
     "slide_type": "subslide"
    }
   },
   "source": [
    "## 載入純文字檔案 `.json`\n",
    "\n",
    "- 使用 `open()` 內建函數開啟檔案。\n",
    "- 使用 `json` 模組的 `load()` 函數載入。"
   ]
  },
  {
   "cell_type": "code",
   "execution_count": 20,
   "id": "discrete-canadian",
   "metadata": {
    "slideshow": {
     "slide_type": "subslide"
    }
   },
   "outputs": [
    {
     "data": {
      "text/plain": [
       "list"
      ]
     },
     "execution_count": 20,
     "metadata": {},
     "output_type": "execute_result"
    }
   ],
   "source": [
    "file_path = \"../data/imdb_top_rated_movies.json\"\n",
    "with open(file_path) as file:\n",
    "    imdb_top_rated_movies = json.load(file)\n",
    "type(imdb_top_rated_movies)"
   ]
  },
  {
   "cell_type": "code",
   "execution_count": 21,
   "id": "legislative-congress",
   "metadata": {
    "slideshow": {
     "slide_type": "subslide"
    }
   },
   "outputs": [
    {
     "name": "stdout",
     "output_type": "stream",
     "text": [
      "{'rank': 1, 'title': 'The Shawshank Redemption', 'year': 1994, 'rating': 9.2}\n",
      "{'rank': 2, 'title': 'The Godfather', 'year': 1972, 'rating': 9.1}\n",
      "{'rank': 3, 'title': 'The Godfather: Part II', 'year': 1974, 'rating': 9.0}\n",
      "{'rank': 4, 'title': 'The Dark Knight', 'year': 2008, 'rating': 9.0}\n",
      "{'rank': 5, 'title': '12 Angry Men', 'year': 1957, 'rating': 8.9}\n",
      "{'rank': 6, 'title': \"Schindler's List\", 'year': 1993, 'rating': 8.9}\n",
      "{'rank': 7, 'title': 'The Lord of the Rings: The Return of the King', 'year': 2003, 'rating': 8.9}\n",
      "{'rank': 8, 'title': 'Pulp Fiction', 'year': 1994, 'rating': 8.8}\n",
      "{'rank': 9, 'title': 'The Good, the Bad and the Ugly', 'year': 1966, 'rating': 8.8}\n",
      "{'rank': 10, 'title': 'The Lord of the Rings: The Fellowship of the Ring', 'year': 2001, 'rating': 8.8}\n"
     ]
    }
   ],
   "source": [
    "i = 0\n",
    "while i < 10:\n",
    "    print(imdb_top_rated_movies[i])\n",
    "    i += 1"
   ]
  },
  {
   "cell_type": "markdown",
   "id": "registered-disorder",
   "metadata": {
    "slideshow": {
     "slide_type": "subslide"
    }
   },
   "source": [
    "## 載入純文字檔案 `.csv`\n",
    "\n",
    "使用 `pandas` 模組的 `read_csv()` 函數。"
   ]
  },
  {
   "cell_type": "code",
   "execution_count": 22,
   "id": "declared-poetry",
   "metadata": {
    "slideshow": {
     "slide_type": "subslide"
    }
   },
   "outputs": [
    {
     "data": {
      "text/plain": [
       "pandas.core.frame.DataFrame"
      ]
     },
     "execution_count": 22,
     "metadata": {},
     "output_type": "execute_result"
    }
   ],
   "source": [
    "file_path = \"../data/imdb_top_rated_movies.csv\"\n",
    "imdb_top_rated_movies = pd.read_csv(file_path)\n",
    "type(imdb_top_rated_movies)"
   ]
  },
  {
   "cell_type": "code",
   "execution_count": 23,
   "id": "hearing-preference",
   "metadata": {
    "slideshow": {
     "slide_type": "subslide"
    }
   },
   "outputs": [
    {
     "data": {
      "text/html": [
       "<div>\n",
       "<style scoped>\n",
       "    .dataframe tbody tr th:only-of-type {\n",
       "        vertical-align: middle;\n",
       "    }\n",
       "\n",
       "    .dataframe tbody tr th {\n",
       "        vertical-align: top;\n",
       "    }\n",
       "\n",
       "    .dataframe thead th {\n",
       "        text-align: right;\n",
       "    }\n",
       "</style>\n",
       "<table border=\"1\" class=\"dataframe\">\n",
       "  <thead>\n",
       "    <tr style=\"text-align: right;\">\n",
       "      <th></th>\n",
       "      <th>rank</th>\n",
       "      <th>title</th>\n",
       "      <th>year</th>\n",
       "      <th>rating</th>\n",
       "    </tr>\n",
       "  </thead>\n",
       "  <tbody>\n",
       "    <tr>\n",
       "      <th>0</th>\n",
       "      <td>1</td>\n",
       "      <td>The Shawshank Redemption</td>\n",
       "      <td>1994</td>\n",
       "      <td>9.2</td>\n",
       "    </tr>\n",
       "    <tr>\n",
       "      <th>1</th>\n",
       "      <td>2</td>\n",
       "      <td>The Godfather</td>\n",
       "      <td>1972</td>\n",
       "      <td>9.1</td>\n",
       "    </tr>\n",
       "    <tr>\n",
       "      <th>2</th>\n",
       "      <td>3</td>\n",
       "      <td>The Godfather: Part II</td>\n",
       "      <td>1974</td>\n",
       "      <td>9.0</td>\n",
       "    </tr>\n",
       "    <tr>\n",
       "      <th>3</th>\n",
       "      <td>4</td>\n",
       "      <td>The Dark Knight</td>\n",
       "      <td>2008</td>\n",
       "      <td>9.0</td>\n",
       "    </tr>\n",
       "    <tr>\n",
       "      <th>4</th>\n",
       "      <td>5</td>\n",
       "      <td>12 Angry Men</td>\n",
       "      <td>1957</td>\n",
       "      <td>8.9</td>\n",
       "    </tr>\n",
       "  </tbody>\n",
       "</table>\n",
       "</div>"
      ],
      "text/plain": [
       "   rank                     title  year  rating\n",
       "0     1  The Shawshank Redemption  1994     9.2\n",
       "1     2             The Godfather  1972     9.1\n",
       "2     3    The Godfather: Part II  1974     9.0\n",
       "3     4           The Dark Knight  2008     9.0\n",
       "4     5              12 Angry Men  1957     8.9"
      ]
     },
     "execution_count": 23,
     "metadata": {},
     "output_type": "execute_result"
    }
   ],
   "source": [
    "imdb_top_rated_movies.head()"
   ]
  },
  {
   "cell_type": "markdown",
   "id": "hybrid-shanghai",
   "metadata": {
    "slideshow": {
     "slide_type": "subslide"
    }
   },
   "source": [
    "## 載入關聯式資料庫的資料表\n",
    "\n",
    "- 使用 `sqlite3` 模組的 `connect()` 函數建立連線。\n",
    "- 使用 `pandas` 模組的 `read_sql()` 函數載入。"
   ]
  },
  {
   "cell_type": "code",
   "execution_count": 24,
   "id": "frozen-tours",
   "metadata": {
    "slideshow": {
     "slide_type": "subslide"
    }
   },
   "outputs": [
    {
     "data": {
      "text/plain": [
       "pandas.core.frame.DataFrame"
      ]
     },
     "execution_count": 24,
     "metadata": {},
     "output_type": "execute_result"
    }
   ],
   "source": [
    "db_path = \"../data/imdb.db\"\n",
    "conn = sqlite3.connect(db_path)\n",
    "sql_query = \"\"\"\n",
    "SELECT * \n",
    "  FROM movies\n",
    " WHERE release_year = 1994;\n",
    "\"\"\"\n",
    "movies_of_1994 = pd.read_sql(sql_query, conn)\n",
    "type(movies_of_1994)"
   ]
  },
  {
   "cell_type": "code",
   "execution_count": 25,
   "id": "intended-grounds",
   "metadata": {
    "slideshow": {
     "slide_type": "subslide"
    }
   },
   "outputs": [
    {
     "data": {
      "text/html": [
       "<div>\n",
       "<style scoped>\n",
       "    .dataframe tbody tr th:only-of-type {\n",
       "        vertical-align: middle;\n",
       "    }\n",
       "\n",
       "    .dataframe tbody tr th {\n",
       "        vertical-align: top;\n",
       "    }\n",
       "\n",
       "    .dataframe thead th {\n",
       "        text-align: right;\n",
       "    }\n",
       "</style>\n",
       "<table border=\"1\" class=\"dataframe\">\n",
       "  <thead>\n",
       "    <tr style=\"text-align: right;\">\n",
       "      <th></th>\n",
       "      <th>id</th>\n",
       "      <th>title</th>\n",
       "      <th>release_year</th>\n",
       "      <th>rating</th>\n",
       "      <th>director</th>\n",
       "      <th>runtime</th>\n",
       "    </tr>\n",
       "  </thead>\n",
       "  <tbody>\n",
       "    <tr>\n",
       "      <th>0</th>\n",
       "      <td>1</td>\n",
       "      <td>The Shawshank Redemption</td>\n",
       "      <td>1994</td>\n",
       "      <td>9.3</td>\n",
       "      <td>Frank Darabont</td>\n",
       "      <td>142</td>\n",
       "    </tr>\n",
       "    <tr>\n",
       "      <th>1</th>\n",
       "      <td>8</td>\n",
       "      <td>Pulp Fiction</td>\n",
       "      <td>1994</td>\n",
       "      <td>8.9</td>\n",
       "      <td>Quentin Tarantino</td>\n",
       "      <td>154</td>\n",
       "    </tr>\n",
       "    <tr>\n",
       "      <th>2</th>\n",
       "      <td>12</td>\n",
       "      <td>Forrest Gump</td>\n",
       "      <td>1994</td>\n",
       "      <td>8.8</td>\n",
       "      <td>Robert Zemeckis</td>\n",
       "      <td>142</td>\n",
       "    </tr>\n",
       "    <tr>\n",
       "      <th>3</th>\n",
       "      <td>31</td>\n",
       "      <td>Léon: The Professional</td>\n",
       "      <td>1994</td>\n",
       "      <td>8.5</td>\n",
       "      <td>Luc Besson</td>\n",
       "      <td>110</td>\n",
       "    </tr>\n",
       "    <tr>\n",
       "      <th>4</th>\n",
       "      <td>34</td>\n",
       "      <td>The Lion King</td>\n",
       "      <td>1994</td>\n",
       "      <td>8.5</td>\n",
       "      <td>Roger Allers</td>\n",
       "      <td>88</td>\n",
       "    </tr>\n",
       "  </tbody>\n",
       "</table>\n",
       "</div>"
      ],
      "text/plain": [
       "   id                     title  release_year  rating           director  \\\n",
       "0   1  The Shawshank Redemption          1994     9.3     Frank Darabont   \n",
       "1   8              Pulp Fiction          1994     8.9  Quentin Tarantino   \n",
       "2  12              Forrest Gump          1994     8.8    Robert Zemeckis   \n",
       "3  31    Léon: The Professional          1994     8.5         Luc Besson   \n",
       "4  34             The Lion King          1994     8.5       Roger Allers   \n",
       "\n",
       "   runtime  \n",
       "0      142  \n",
       "1      154  \n",
       "2      142  \n",
       "3      110  \n",
       "4       88  "
      ]
     },
     "execution_count": 25,
     "metadata": {},
     "output_type": "execute_result"
    }
   ],
   "source": [
    "movies_of_1994"
   ]
  },
  {
   "cell_type": "markdown",
   "id": "functioning-europe",
   "metadata": {
    "slideshow": {
     "slide_type": "subslide"
    }
   },
   "source": [
    "## 載入試算表\n",
    "\n",
    "使用 `pandas` 模組的 `read_excel()` 函數載入。"
   ]
  },
  {
   "cell_type": "code",
   "execution_count": 26,
   "id": "cosmetic-hearing",
   "metadata": {
    "slideshow": {
     "slide_type": "subslide"
    }
   },
   "outputs": [
    {
     "data": {
      "text/plain": [
       "pandas.core.frame.DataFrame"
      ]
     },
     "execution_count": 26,
     "metadata": {},
     "output_type": "execute_result"
    }
   ],
   "source": [
    "file_path = \"../data/公投在各投開票所得票數一覽表-EXCEL格式/表5-100(臺北市)-公投在各投開票所得票數一覽表.xls\"\n",
    "referendum_2018_taipei_city = pd.read_excel(file_path)\n",
    "type(referendum_2018_taipei_city)"
   ]
  },
  {
   "cell_type": "code",
   "execution_count": 27,
   "id": "velvet-swift",
   "metadata": {
    "slideshow": {
     "slide_type": "subslide"
    }
   },
   "outputs": [
    {
     "data": {
      "text/html": [
       "<div>\n",
       "<style scoped>\n",
       "    .dataframe tbody tr th:only-of-type {\n",
       "        vertical-align: middle;\n",
       "    }\n",
       "\n",
       "    .dataframe tbody tr th {\n",
       "        vertical-align: top;\n",
       "    }\n",
       "\n",
       "    .dataframe thead th {\n",
       "        text-align: right;\n",
       "    }\n",
       "</style>\n",
       "<table border=\"1\" class=\"dataframe\">\n",
       "  <thead>\n",
       "    <tr style=\"text-align: right;\">\n",
       "      <th></th>\n",
       "      <th>107年全國性公民投票案第７案在臺北市各投開票所得票數一覽表</th>\n",
       "      <th>Unnamed: 1</th>\n",
       "      <th>Unnamed: 2</th>\n",
       "      <th>Unnamed: 3</th>\n",
       "      <th>Unnamed: 4</th>\n",
       "      <th>Unnamed: 5</th>\n",
       "      <th>Unnamed: 6</th>\n",
       "      <th>Unnamed: 7</th>\n",
       "      <th>Unnamed: 8</th>\n",
       "      <th>Unnamed: 9</th>\n",
       "      <th>Unnamed: 10</th>\n",
       "      <th>Unnamed: 11</th>\n",
       "      <th>Unnamed: 12</th>\n",
       "    </tr>\n",
       "  </thead>\n",
       "  <tbody>\n",
       "    <tr>\n",
       "      <th>0</th>\n",
       "      <td>鄉(鎮、市、區)別</td>\n",
       "      <td>村里別</td>\n",
       "      <td>投開票所別</td>\n",
       "      <td>得票情形</td>\n",
       "      <td>NaN</td>\n",
       "      <td>A\\n有效票數\\n\\nA=1+2+...+N</td>\n",
       "      <td>B\\n無效票數\\n\\n</td>\n",
       "      <td>C\\n投票數\\n\\nC=A+B</td>\n",
       "      <td>D\\n已領未投\\n票　　數\\nD=E-C</td>\n",
       "      <td>E\\n發出票數\\n\\nE=C+D</td>\n",
       "      <td>F\\n用餘票數\\n\\n</td>\n",
       "      <td>G\\n投票權人數\\n\\nG=E+F</td>\n",
       "      <td>H\\n投票率\\nH=C/G\\n(%)</td>\n",
       "    </tr>\n",
       "    <tr>\n",
       "      <th>1</th>\n",
       "      <td>NaN</td>\n",
       "      <td>NaN</td>\n",
       "      <td>NaN</td>\n",
       "      <td>1\\n同意\\n</td>\n",
       "      <td>2\\n不同意\\n</td>\n",
       "      <td>NaN</td>\n",
       "      <td>NaN</td>\n",
       "      <td>NaN</td>\n",
       "      <td>NaN</td>\n",
       "      <td>NaN</td>\n",
       "      <td>NaN</td>\n",
       "      <td>NaN</td>\n",
       "      <td>NaN</td>\n",
       "    </tr>\n",
       "    <tr>\n",
       "      <th>2</th>\n",
       "      <td>NaN</td>\n",
       "      <td>NaN</td>\n",
       "      <td>NaN</td>\n",
       "      <td>NaN</td>\n",
       "      <td>NaN</td>\n",
       "      <td>NaN</td>\n",
       "      <td>NaN</td>\n",
       "      <td>NaN</td>\n",
       "      <td>NaN</td>\n",
       "      <td>NaN</td>\n",
       "      <td>NaN</td>\n",
       "      <td>NaN</td>\n",
       "      <td>NaN</td>\n",
       "    </tr>\n",
       "    <tr>\n",
       "      <th>3</th>\n",
       "      <td>NaN</td>\n",
       "      <td>NaN</td>\n",
       "      <td>NaN</td>\n",
       "      <td>NaN</td>\n",
       "      <td>NaN</td>\n",
       "      <td>NaN</td>\n",
       "      <td>NaN</td>\n",
       "      <td>NaN</td>\n",
       "      <td>NaN</td>\n",
       "      <td>NaN</td>\n",
       "      <td>NaN</td>\n",
       "      <td>NaN</td>\n",
       "      <td>NaN</td>\n",
       "    </tr>\n",
       "    <tr>\n",
       "      <th>4</th>\n",
       "      <td>總　計</td>\n",
       "      <td>NaN</td>\n",
       "      <td>NaN</td>\n",
       "      <td>924026</td>\n",
       "      <td>277072</td>\n",
       "      <td>1201098</td>\n",
       "      <td>77356</td>\n",
       "      <td>1278454</td>\n",
       "      <td>775</td>\n",
       "      <td>1279229</td>\n",
       "      <td>949201</td>\n",
       "      <td>2228430</td>\n",
       "      <td>57.369999</td>\n",
       "    </tr>\n",
       "  </tbody>\n",
       "</table>\n",
       "</div>"
      ],
      "text/plain": [
       "  107年全國性公民投票案第７案在臺北市各投開票所得票數一覽表 Unnamed: 1 Unnamed: 2 Unnamed: 3 Unnamed: 4  \\\n",
       "0                      鄉(鎮、市、區)別        村里別      投開票所別       得票情形        NaN   \n",
       "1                            NaN        NaN        NaN    1\\n同意\\n   2\\n不同意\\n   \n",
       "2                            NaN        NaN        NaN        NaN        NaN   \n",
       "3                            NaN        NaN        NaN        NaN        NaN   \n",
       "4                            總　計        NaN        NaN     924026     277072   \n",
       "\n",
       "               Unnamed: 5   Unnamed: 6       Unnamed: 7            Unnamed: 8  \\\n",
       "0  A\\n有效票數\\n\\nA=1+2+...+N  B\\n無效票數\\n\\n  C\\n投票數\\n\\nC=A+B  D\\n已領未投\\n票　　數\\nD=E-C   \n",
       "1                     NaN          NaN              NaN                   NaN   \n",
       "2                     NaN          NaN              NaN                   NaN   \n",
       "3                     NaN          NaN              NaN                   NaN   \n",
       "4                 1201098        77356          1278454                   775   \n",
       "\n",
       "         Unnamed: 9  Unnamed: 10        Unnamed: 11         Unnamed: 12  \n",
       "0  E\\n發出票數\\n\\nE=C+D  F\\n用餘票數\\n\\n  G\\n投票權人數\\n\\nG=E+F  H\\n投票率\\nH=C/G\\n(%)  \n",
       "1               NaN          NaN                NaN                 NaN  \n",
       "2               NaN          NaN                NaN                 NaN  \n",
       "3               NaN          NaN                NaN                 NaN  \n",
       "4           1279229       949201            2228430           57.369999  "
      ]
     },
     "execution_count": 27,
     "metadata": {},
     "output_type": "execute_result"
    }
   ],
   "source": [
    "referendum_2018_taipei_city.head()"
   ]
  }
 ],
 "metadata": {
  "celltoolbar": "Slideshow",
  "kernelspec": {
   "display_name": "Python Data Science",
   "language": "python",
   "name": "pyds"
  },
  "language_info": {
   "codemirror_mode": {
    "name": "ipython",
    "version": 3
   },
   "file_extension": ".py",
   "mimetype": "text/x-python",
   "name": "python",
   "nbconvert_exporter": "python",
   "pygments_lexer": "ipython3",
   "version": "3.8.10"
  }
 },
 "nbformat": 4,
 "nbformat_minor": 5
}
