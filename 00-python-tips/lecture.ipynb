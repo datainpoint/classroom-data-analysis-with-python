{
 "cells": [
  {
   "cell_type": "markdown",
   "id": "pending-bottle",
   "metadata": {
    "slideshow": {
     "slide_type": "slide"
    }
   },
   "source": [
    "# Python 資料分析\n",
    "\n",
    "> Python 重要技巧：Comprehensions、Generators、環境與模組管理\n",
    "\n",
    "[數據交點](https://www.datainpoint.com/) | 郭耀仁 <yaojenkuo@datainpoint.com>"
   ]
  },
  {
   "cell_type": "markdown",
   "id": "polished-variety",
   "metadata": {
    "slideshow": {
     "slide_type": "slide"
    }
   },
   "source": [
    "## Comprehensions"
   ]
  },
  {
   "cell_type": "markdown",
   "id": "vital-classification",
   "metadata": {
    "slideshow": {
     "slide_type": "subslide"
    }
   },
   "source": [
    "## 什麼是 Comprehensions\n",
    "\n",
    "> Comprehensions 指的是依賴序列來建立序列的語法，Python 2 推出 List comprehension，Python 3 推出 Dictionary comprehension 以及 Set comprehension。\n",
    "\n",
    "來源：<https://python-3-patterns-idioms-test.readthedocs.io/en/latest/>"
   ]
  },
  {
   "cell_type": "markdown",
   "id": "hundred-minnesota",
   "metadata": {
    "slideshow": {
     "slide_type": "subslide"
    }
   },
   "source": [
    "## 建立 `list` 的傳統方式"
   ]
  },
  {
   "cell_type": "code",
   "execution_count": 1,
   "id": "labeled-trance",
   "metadata": {},
   "outputs": [
    {
     "name": "stdout",
     "output_type": "stream",
     "text": [
      "[4, 9, 25, 49, 121]\n"
     ]
    }
   ],
   "source": [
    "primes = [2, 3, 5, 7, 11]\n",
    "squared_primes = []\n",
    "for p in primes:\n",
    "    squared_primes.append(p**2)\n",
    "print(squared_primes)"
   ]
  },
  {
   "cell_type": "markdown",
   "id": "chinese-yukon",
   "metadata": {
    "slideshow": {
     "slide_type": "subslide"
    }
   },
   "source": [
    "## 以 `List comprehension` 建立 `list`"
   ]
  },
  {
   "cell_type": "code",
   "execution_count": 2,
   "id": "suburban-lambda",
   "metadata": {},
   "outputs": [
    {
     "name": "stdout",
     "output_type": "stream",
     "text": [
      "[4, 9, 25, 49, 121]\n"
     ]
    }
   ],
   "source": [
    "primes = [2, 3, 5, 7, 11]\n",
    "squared_primes = [p**2 for p in primes]\n",
    "print(squared_primes)"
   ]
  },
  {
   "cell_type": "markdown",
   "id": "included-coach",
   "metadata": {
    "slideshow": {
     "slide_type": "subslide"
    }
   },
   "source": [
    "## 在 `List comprehension` 中加入 `if` 條件判斷"
   ]
  },
  {
   "cell_type": "code",
   "execution_count": 3,
   "id": "artistic-royalty",
   "metadata": {},
   "outputs": [
    {
     "name": "stdout",
     "output_type": "stream",
     "text": [
      "[9, 25, 49, 121]\n"
     ]
    }
   ],
   "source": [
    "primes = [2, 3, 5, 7, 11]\n",
    "squared_odd_primes = [p**2 for p in primes if p % 2 == 1]\n",
    "print(squared_odd_primes)"
   ]
  },
  {
   "cell_type": "markdown",
   "id": "returning-quantum",
   "metadata": {
    "slideshow": {
     "slide_type": "subslide"
    }
   },
   "source": [
    "## 在 `List comprehension` 中加入 `if-else` 條件判斷"
   ]
  },
  {
   "cell_type": "code",
   "execution_count": 4,
   "id": "american-acquisition",
   "metadata": {},
   "outputs": [
    {
     "name": "stdout",
     "output_type": "stream",
     "text": [
      "[True, False, False, False, False]\n"
     ]
    }
   ],
   "source": [
    "primes = [2, 3, 5, 7, 11]\n",
    "is_even_primes = [True if p % 2 == 0 else False for p in primes]\n",
    "print(is_even_primes)"
   ]
  },
  {
   "cell_type": "markdown",
   "id": "labeled-camping",
   "metadata": {
    "slideshow": {
     "slide_type": "subslide"
    }
   },
   "source": [
    "## 以 `Set comprehension` 建立 `set`"
   ]
  },
  {
   "cell_type": "code",
   "execution_count": 5,
   "id": "expensive-picnic",
   "metadata": {},
   "outputs": [
    {
     "name": "stdout",
     "output_type": "stream",
     "text": [
      "{4, 9, 49, 121, 25}\n",
      "<class 'set'>\n"
     ]
    }
   ],
   "source": [
    "primes = [2, 3, 5, 7, 11]\n",
    "squared_primes = {p**2 for p in primes}\n",
    "print(squared_primes)\n",
    "print(type(squared_primes))"
   ]
  },
  {
   "cell_type": "markdown",
   "id": "meaning-kansas",
   "metadata": {
    "slideshow": {
     "slide_type": "subslide"
    }
   },
   "source": [
    "## 以 `Dictionary comprehension` 建立 `dict`"
   ]
  },
  {
   "cell_type": "code",
   "execution_count": 6,
   "id": "mature-birth",
   "metadata": {},
   "outputs": [
    {
     "name": "stdout",
     "output_type": "stream",
     "text": [
      "{2: 4, 3: 9, 5: 25, 7: 49, 11: 121}\n",
      "<class 'dict'>\n"
     ]
    }
   ],
   "source": [
    "primes = [2, 3, 5, 7, 11]\n",
    "squared_primes = {p: p**2 for p in primes}\n",
    "print(squared_primes)\n",
    "print(type(squared_primes))"
   ]
  },
  {
   "cell_type": "markdown",
   "id": "dietary-fiction",
   "metadata": {
    "slideshow": {
     "slide_type": "subslide"
    }
   },
   "source": [
    "## 以 `List comprehension` 建立 `list` 時不小心使用了小括號而非中括號"
   ]
  },
  {
   "cell_type": "code",
   "execution_count": 7,
   "id": "provincial-champion",
   "metadata": {},
   "outputs": [
    {
     "name": "stdout",
     "output_type": "stream",
     "text": [
      "<generator object <genexpr> at 0x7f7ffb4a0040>\n",
      "<class 'generator'>\n"
     ]
    }
   ],
   "source": [
    "primes = [2, 3, 5, 7, 11]\n",
    "squared_primes = (p**2 for p in primes)\n",
    "print(squared_primes)\n",
    "print(type(squared_primes))"
   ]
  },
  {
   "cell_type": "markdown",
   "id": "suffering-reviewer",
   "metadata": {
    "slideshow": {
     "slide_type": "slide"
    }
   },
   "source": [
    "## Generators"
   ]
  },
  {
   "cell_type": "markdown",
   "id": "animated-advocate",
   "metadata": {
    "slideshow": {
     "slide_type": "subslide"
    }
   },
   "source": [
    "## 什麼是 Generators\n",
    "\n",
    "Generators 與 Comprehensions 相似，不同的地方在於 Comprehensions 所產出的資料結構中儲存的資料值，Generators 則是儲存資料值的產生規則，必須經過實例化才會將資料值儲存到資料結構中。若是以料理來比喻，Comprehensions 的輸出就像是最後端上桌的菜餚，而 Generators 的輸出則像是菜餚的食譜。"
   ]
  },
  {
   "cell_type": "markdown",
   "id": "structural-quarter",
   "metadata": {
    "slideshow": {
     "slide_type": "subslide"
    }
   },
   "source": [
    "## Generators 的特性\n",
    "\n",
    "- 具備儲存與計算的效率性。\n",
    "- 僅能實例化一次。"
   ]
  },
  {
   "cell_type": "code",
   "execution_count": 8,
   "id": "equipped-halloween",
   "metadata": {
    "slideshow": {
     "slide_type": "-"
    }
   },
   "outputs": [
    {
     "name": "stdout",
     "output_type": "stream",
     "text": [
      "[4, 9, 25, 49, 121]\n",
      "[]\n"
     ]
    }
   ],
   "source": [
    "print(list(squared_primes))\n",
    "print(list(squared_primes))"
   ]
  },
  {
   "cell_type": "markdown",
   "id": "cheap-promise",
   "metadata": {
    "slideshow": {
     "slide_type": "subslide"
    }
   },
   "source": [
    "## 我們為什麼需要認識 Generators\n",
    "\n",
    "- 要混淆使用者的大腦（X）\n",
    "- 很多內建函數的輸出有 Generators 的特性（O）"
   ]
  },
  {
   "cell_type": "markdown",
   "id": "fluid-governor",
   "metadata": {
    "slideshow": {
     "slide_type": "subslide"
    }
   },
   "source": [
    "## 具有 Generators 特性的內建函數\n",
    "\n",
    "- 迭代器函數\n",
    "    - `enumerate`\n",
    "    - `zip`\n",
    "- 函數型函數\n",
    "    - `map`\n",
    "    - `filter`"
   ]
  },
  {
   "cell_type": "markdown",
   "id": "viral-importance",
   "metadata": {
    "slideshow": {
     "slide_type": "subslide"
    }
   },
   "source": [
    "## `enumerate` 函數\n",
    "\n",
    "讓 `for` 迴圈可以同時走訪資料結構的「索引」與「資料值」。"
   ]
  },
  {
   "cell_type": "code",
   "execution_count": 9,
   "id": "square-helena",
   "metadata": {
    "slideshow": {
     "slide_type": "subslide"
    }
   },
   "outputs": [
    {
     "name": "stdout",
     "output_type": "stream",
     "text": [
      "<enumerate object at 0x7f7ffb497980>\n",
      "[(0, 'The Avengers'), (1, 'Avengers: Age of Ultron'), (2, 'Avengers: Infinity War'), (3, 'Avengers: Endgame')]\n",
      "[]\n"
     ]
    }
   ],
   "source": [
    "avenger_movies = ['The Avengers', 'Avengers: Age of Ultron', 'Avengers: Infinity War', 'Avengers: Endgame']\n",
    "enum = enumerate(avenger_movies)\n",
    "print(enum)\n",
    "print(list(enum))\n",
    "print(list(enum))"
   ]
  },
  {
   "cell_type": "code",
   "execution_count": 10,
   "id": "synthetic-distance",
   "metadata": {
    "slideshow": {
     "slide_type": "subslide"
    }
   },
   "outputs": [
    {
     "name": "stdout",
     "output_type": "stream",
     "text": [
      "0: The Avengers\n",
      "1: Avengers: Age of Ultron\n",
      "2: Avengers: Infinity War\n",
      "3: Avengers: Endgame\n"
     ]
    }
   ],
   "source": [
    "avenger_movies = ['The Avengers', 'Avengers: Age of Ultron', 'Avengers: Infinity War', 'Avengers: Endgame']\n",
    "for index, item in enumerate(avenger_movies):\n",
    "    print(\"{}: {}\".format(index, item))"
   ]
  },
  {
   "cell_type": "markdown",
   "id": "postal-walnut",
   "metadata": {
    "slideshow": {
     "slide_type": "subslide"
    }
   },
   "source": [
    "## `zip` 函數\n",
    "\n",
    "讓 `for` 迴圈可以同時走訪多個資料結構的「資料值」。"
   ]
  },
  {
   "cell_type": "code",
   "execution_count": 11,
   "id": "checked-suspect",
   "metadata": {
    "slideshow": {
     "slide_type": "subslide"
    }
   },
   "outputs": [
    {
     "name": "stdout",
     "output_type": "stream",
     "text": [
      "<zip object at 0x7f7ffb47fbc0>\n",
      "[(2012, 'The Avengers'), (2015, 'Avengers: Age of Ultron'), (2018, 'Avengers: Infinity War'), (2019, 'Avengers: Endgame')]\n",
      "[]\n"
     ]
    }
   ],
   "source": [
    "avenger_movies = ['The Avengers', 'Avengers: Age of Ultron', 'Avengers: Infinity War', 'Avengers: Endgame']\n",
    "release_years = [2012, 2015, 2018, 2019]\n",
    "zipped = zip(release_years, avenger_movies)\n",
    "print(zipped)\n",
    "print(list(zipped))\n",
    "print(list(zipped))"
   ]
  },
  {
   "cell_type": "code",
   "execution_count": 12,
   "id": "transparent-inquiry",
   "metadata": {
    "slideshow": {
     "slide_type": "subslide"
    }
   },
   "outputs": [
    {
     "name": "stdout",
     "output_type": "stream",
     "text": [
      "The Avengers was released in 2012.\n",
      "Avengers: Age of Ultron was released in 2015.\n",
      "Avengers: Infinity War was released in 2018.\n",
      "Avengers: Endgame was released in 2019.\n"
     ]
    }
   ],
   "source": [
    "avenger_movies = ['The Avengers', 'Avengers: Age of Ultron', 'Avengers: Infinity War', 'Avengers: Endgame']\n",
    "release_years = [2012, 2015, 2018, 2019]\n",
    "for year, movie in zip(release_years, avenger_movies):\n",
    "    print(\"{} was released in {}.\".format(movie, year))"
   ]
  },
  {
   "cell_type": "markdown",
   "id": "synthetic-snapshot",
   "metadata": {
    "slideshow": {
     "slide_type": "subslide"
    }
   },
   "source": [
    "## `map` 函數\n",
    "\n",
    "逐次把資料結構的「資料值」當作參數，依據傳給使用（呼叫）的函數，像 `map` 這樣的函數也稱為函數型函數（Functional functions）或者高階函數（Higher-order functions）。"
   ]
  },
  {
   "cell_type": "code",
   "execution_count": 13,
   "id": "caring-quarterly",
   "metadata": {
    "slideshow": {
     "slide_type": "subslide"
    }
   },
   "outputs": [
    {
     "name": "stdout",
     "output_type": "stream",
     "text": [
      "<map object at 0x7f7ffb478f40>\n",
      "[2012.0, 2015.0, 2018.0, 2019.0]\n",
      "[]\n"
     ]
    }
   ],
   "source": [
    "release_years = [2012, 2015, 2018, 2019]\n",
    "mapped = map(float, release_years)\n",
    "print(mapped)\n",
    "print(list(mapped))\n",
    "print(list(mapped))"
   ]
  },
  {
   "cell_type": "markdown",
   "id": "bizarre-velvet",
   "metadata": {
    "slideshow": {
     "slide_type": "subslide"
    }
   },
   "source": [
    "## `filter` 函數\n",
    "\n",
    "逐次把資料結構的「資料值」當作參數，依據傳給使用（呼叫）的函數，保留函數回傳值為 `True` 的輸出，像 `filter` 這樣的函數也稱為函數型函數（Functional functions）或者高階函數（Higher-order functions）。"
   ]
  },
  {
   "cell_type": "code",
   "execution_count": 14,
   "id": "intensive-pollution",
   "metadata": {
    "slideshow": {
     "slide_type": "subslide"
    }
   },
   "outputs": [
    {
     "name": "stdout",
     "output_type": "stream",
     "text": [
      "<filter object at 0x7f7ffb49dfa0>\n",
      "[True, True, True, True]\n",
      "[]\n"
     ]
    }
   ],
   "source": [
    "bools = [False, True, True, True, True]\n",
    "filtered = filter(None, bools)\n",
    "print(filtered)\n",
    "print(list(filtered))\n",
    "print(list(filtered))"
   ]
  },
  {
   "cell_type": "markdown",
   "id": "suspected-tribune",
   "metadata": {
    "slideshow": {
     "slide_type": "subslide"
    }
   },
   "source": [
    "## Python 使用者習慣將 `map` 與 `filter` 函數搭配 Lambda 函數\n",
    "\n",
    "Lambda 函數也稱為「匿名函數」，不同於使用 `def` 語法定義函數，Lambda 可以在不指定函數名稱的情況下「同時」定義與使用，並且只有在定義的當下被使用。"
   ]
  },
  {
   "cell_type": "code",
   "execution_count": 15,
   "id": "minus-sacramento",
   "metadata": {
    "slideshow": {
     "slide_type": "subslide"
    }
   },
   "outputs": [
    {
     "name": "stdout",
     "output_type": "stream",
     "text": [
      "[4, 9, 25, 49, 121]\n",
      "[11]\n"
     ]
    }
   ],
   "source": [
    "def squared(x):\n",
    "    return x**2\n",
    "def larger_than_ten(x):\n",
    "    return x>=10\n",
    "\n",
    "primes = [2, 3, 5, 7, 11]\n",
    "print(list(map(squared, primes)))\n",
    "print(list(filter(larger_than_ten, primes)))"
   ]
  },
  {
   "cell_type": "code",
   "execution_count": 16,
   "id": "returning-supply",
   "metadata": {
    "slideshow": {
     "slide_type": "subslide"
    }
   },
   "outputs": [
    {
     "name": "stdout",
     "output_type": "stream",
     "text": [
      "[4, 9, 25, 49, 121]\n",
      "[11]\n"
     ]
    }
   ],
   "source": [
    "primes = [2, 3, 5, 7, 11]\n",
    "print(list(map(lambda x: x**2, primes)))        # so we don't waste a function name for an easy operation\n",
    "print(list(filter(lambda x: x >= 10, primes)))  # so we don't waste a function name for an easy operation"
   ]
  },
  {
   "cell_type": "markdown",
   "id": "boxed-rental",
   "metadata": {
    "slideshow": {
     "slide_type": "slide"
    }
   },
   "source": [
    "## 環境與模組管理"
   ]
  },
  {
   "cell_type": "markdown",
   "id": "designed-wallpaper",
   "metadata": {
    "slideshow": {
     "slide_type": "subslide"
    }
   },
   "source": [
    "## 什麼是環境與模組管理\n",
    "\n",
    "當開發專案數量增多時，就會開始有對應專案需求，而有不同的 Python 版本以及對應不同的模組版本需要安裝，在一台電腦管理軟體版本，確保各個專案的開發環境不會受到彼此影響，就稱為環境管理。"
   ]
  },
  {
   "cell_type": "markdown",
   "id": "ranking-institution",
   "metadata": {
    "slideshow": {
     "slide_type": "subslide"
    }
   },
   "source": [
    "## Python 標準的環境與模組管理工具\n",
    "\n",
    "- 環境管理：Python 的標準模組 `venv`：<https://docs.python.org/3/tutorial/venv.html>\n",
    "- 模組管理：Python 的模組 `pip`：<https://pip.pypa.io/en/stable>"
   ]
  },
  {
   "cell_type": "markdown",
   "id": "emerging-translation",
   "metadata": {
    "slideshow": {
     "slide_type": "subslide"
    }
   },
   "source": [
    "## Conda 既可以管理環境亦能夠管理模組\n",
    "\n",
    "Conda 是一個開源的跨平台、跨程式語言軟體，能夠在 Windows、macOS 與 Linux 上安裝運行，它被設計作為 Python、R、Lua、Scala 與 Java 等任何程式語言的模組、依賴性以及工作環境管理軟體。\n",
    "\n",
    "來源：<https://conda.io/projects/conda/en/latest/index.html>"
   ]
  },
  {
   "cell_type": "markdown",
   "id": "median-allergy",
   "metadata": {
    "slideshow": {
     "slide_type": "subslide"
    }
   },
   "source": [
    "## 獲得 conda 最簡便的方式\n",
    "\n",
    "- 安裝 [Miniconda](https://docs.conda.io/en/latest/miniconda.html)\n",
    "- 如何選擇？Miniconda 或者 Anaconda"
   ]
  },
  {
   "cell_type": "markdown",
   "id": "agricultural-brazilian",
   "metadata": {
    "slideshow": {
     "slide_type": "subslide"
    }
   },
   "source": [
    "## 運行 conda 的軟體\n",
    "\n",
    "- Windows 使用者：Anaconda Prompt 或 Anaconda PowerShell\n",
    "- macOS 使用者：Terminal（終端機）。"
   ]
  },
  {
   "cell_type": "markdown",
   "id": "august-salad",
   "metadata": {
    "slideshow": {
     "slide_type": "subslide"
    }
   },
   "source": [
    "## 檢視 conda 版本與安裝是否完成\n",
    "\n",
    "```bash\n",
    "conda --version\n",
    "```"
   ]
  },
  {
   "cell_type": "markdown",
   "id": "extensive-moisture",
   "metadata": {
    "slideshow": {
     "slide_type": "subslide"
    }
   },
   "source": [
    "## 檢視電腦中可使用與目前所在的環境\n",
    "\n",
    "```bash\n",
    "conda env list\n",
    "```"
   ]
  },
  {
   "cell_type": "markdown",
   "id": "declared-action",
   "metadata": {
    "slideshow": {
     "slide_type": "subslide"
    }
   },
   "source": [
    "## 建立全新且資源隔絕的環境\n",
    "\n",
    "```bash\n",
    "conda create --name pyda python=3\n",
    "```"
   ]
  },
  {
   "cell_type": "markdown",
   "id": "geographic-tablet",
   "metadata": {
    "slideshow": {
     "slide_type": "subslide"
    }
   },
   "source": [
    "## 啟動環境\n",
    "\n",
    "```bash\n",
    "conda activate pyda\n",
    "```"
   ]
  },
  {
   "cell_type": "markdown",
   "id": "professional-trainer",
   "metadata": {
    "slideshow": {
     "slide_type": "subslide"
    }
   },
   "source": [
    "## 檢視目前環境的模組\n",
    "\n",
    "```bash\n",
    "conda list\n",
    "```"
   ]
  },
  {
   "cell_type": "markdown",
   "id": "thermal-filling",
   "metadata": {
    "slideshow": {
     "slide_type": "subslide"
    }
   },
   "source": [
    "## 在目前環境安裝模組\n",
    "\n",
    "```bash\n",
    "conda install ipykernel numpy pandas openpyxl matplotlib # conda install module_name=MAJOR.MINOR.PATCH\n",
    "```"
   ]
  },
  {
   "cell_type": "markdown",
   "id": "heated-kruger",
   "metadata": {
    "slideshow": {
     "slide_type": "subslide"
    }
   },
   "source": [
    "## 檢視 Jupyter Notebook 核心\n",
    "\n",
    "```bash\n",
    "jupyter kernelspec list\n",
    "```"
   ]
  },
  {
   "cell_type": "markdown",
   "id": "alpine-irish",
   "metadata": {
    "slideshow": {
     "slide_type": "subslide"
    }
   },
   "source": [
    "## 新增 Jupyter Notebook 核心\n",
    "\n",
    "```bash\n",
    "python -m ipykernel install --user --name pyda --display-name \"Python Data Analysis\"\n",
    "```"
   ]
  },
  {
   "cell_type": "markdown",
   "id": "municipal-stomach",
   "metadata": {
    "slideshow": {
     "slide_type": "subslide"
    }
   },
   "source": [
    "## 移除 Jupyter Notebook 核心\n",
    "\n",
    "```bash\n",
    "jupyter kernelspec remove pyda\n",
    "```"
   ]
  },
  {
   "cell_type": "markdown",
   "id": "scheduled-first",
   "metadata": {
    "slideshow": {
     "slide_type": "subslide"
    }
   },
   "source": [
    "## 卸載環境\n",
    "\n",
    "```bash\n",
    "conda deactivate\n",
    "```"
   ]
  },
  {
   "cell_type": "markdown",
   "id": "respected-motivation",
   "metadata": {
    "slideshow": {
     "slide_type": "subslide"
    }
   },
   "source": [
    "## 移除環境\n",
    "\n",
    "```bash\n",
    "conda remove --name pyda --all\n",
    "```"
   ]
  }
 ],
 "metadata": {
  "celltoolbar": "Slideshow",
  "kernelspec": {
   "display_name": "Python Data Science",
   "language": "python",
   "name": "pyds"
  },
  "language_info": {
   "codemirror_mode": {
    "name": "ipython",
    "version": 3
   },
   "file_extension": ".py",
   "mimetype": "text/x-python",
   "name": "python",
   "nbconvert_exporter": "python",
   "pygments_lexer": "ipython3",
   "version": "3.8.10"
  }
 },
 "nbformat": 4,
 "nbformat_minor": 5
}
