{
 "cells": [
  {
   "cell_type": "markdown",
   "id": "small-bacon",
   "metadata": {
    "slideshow": {
     "slide_type": "slide"
    }
   },
   "source": [
    "# Python 資料分析\n",
    "\n",
    "> 重要觀念複習：函數、類別與模組（套件）\n",
    "\n",
    "[數據交點](https://www.datainpoint.com/) | 郭耀仁 <yaojenkuo@datainpoint.com>"
   ]
  },
  {
   "cell_type": "markdown",
   "id": "handmade-fault",
   "metadata": {
    "slideshow": {
     "slide_type": "slide"
    }
   },
   "source": [
    "## 組織程式碼"
   ]
  },
  {
   "cell_type": "markdown",
   "id": "veterinary-calcium",
   "metadata": {
    "slideshow": {
     "slide_type": "subslide"
    }
   },
   "source": [
    "## 什麼是組織程式碼？\n",
    "\n",
    "面對不同目的以及應用場景，我們會有組織程式碼的需求，簡單來說，是希望程式碼可以簡潔且有效率地完成任務。"
   ]
  },
  {
   "cell_type": "markdown",
   "id": "enormous-international",
   "metadata": {
    "slideshow": {
     "slide_type": "subslide"
    }
   },
   "source": [
    "## 組織程式碼希望達到的目標最主要有兩個：\n",
    "\n",
    "1. 提升程式碼的「可利用性」。\n",
    "2. 減少程式碼的「重複」。"
   ]
  },
  {
   "cell_type": "markdown",
   "id": "gorgeous-namibia",
   "metadata": {
    "slideshow": {
     "slide_type": "subslide"
    }
   },
   "source": [
    "## Python 提供三種機制供使用者組織程式碼\n",
    "\n",
    "視應用範疇由小到大依序為：\n",
    "\n",
    "- 函數（Function）\n",
    "- 類別（Class）\n",
    "- 模組/套件（Module/Library）"
   ]
  },
  {
   "cell_type": "markdown",
   "id": "seasonal-jonathan",
   "metadata": {
    "slideshow": {
     "slide_type": "subslide"
    }
   },
   "source": [
    "## 如何理解程式碼組織機制\n",
    "\n",
    "- 數行程式碼可以組織為一個函數。\n",
    "- 數個函數可以組織為一個類別。\n",
    "- 數個類別可以組織為一個模組。\n",
    "- 數個模組可以組織為一個功能更多的模組。"
   ]
  },
  {
   "cell_type": "markdown",
   "id": "stock-testament",
   "metadata": {
    "slideshow": {
     "slide_type": "subslide"
    }
   },
   "source": [
    "## 程式碼，組織！\n",
    "\n",
    "![](https://media.giphy.com/media/LOFT5Jd31ON1b5kLtP/giphy.gif)\n",
    "\n",
    "來源：<https://gph.is/g/4bWWoxv>"
   ]
  },
  {
   "cell_type": "markdown",
   "id": "returning-provision",
   "metadata": {
    "slideshow": {
     "slide_type": "slide"
    }
   },
   "source": [
    "## 函數"
   ]
  },
  {
   "cell_type": "markdown",
   "id": "subjective-special",
   "metadata": {
    "slideshow": {
     "slide_type": "subslide"
    }
   },
   "source": [
    "## 什麼是函數\n",
    "\n",
    "一段被賦予名稱的程式碼，能夠完成某一個文字處理或者數值計算任務，使用（呼叫）某個函數之前，必須先確定這個函數在執行的範疇中已經被定義妥善。"
   ]
  },
  {
   "cell_type": "markdown",
   "id": "desirable-wells",
   "metadata": {
    "slideshow": {
     "slide_type": "subslide"
    }
   },
   "source": [
    "## 「哈囉世界」Hello, World!"
   ]
  },
  {
   "cell_type": "code",
   "execution_count": 1,
   "id": "unavailable-roommate",
   "metadata": {},
   "outputs": [
    {
     "name": "stdout",
     "output_type": "stream",
     "text": [
      "Hello, World!\n"
     ]
    }
   ],
   "source": [
    "print(\"Hello, World!\")"
   ]
  },
  {
   "cell_type": "markdown",
   "id": "careful-brazil",
   "metadata": {
    "slideshow": {
     "slide_type": "subslide"
    }
   },
   "source": [
    "## 「哈囉世界」中所使用的 `print` 是什麼？\n",
    "\n",
    "- `print` 是 Python 的「內建函數」。\n",
    "- 「內建」所指的意思是不需要先行「定義」就可以使用的函數。\n",
    "- Python 的內建函數：<https://docs.python.org/3/library/functions.html>"
   ]
  },
  {
   "cell_type": "markdown",
   "id": "stupid-brain",
   "metadata": {
    "slideshow": {
     "slide_type": "subslide"
    }
   },
   "source": [
    "## 一個函數由四個元件組成\n",
    "\n",
    "1. 函數名稱\n",
    "2. 輸入、參數\n",
    "3. 函數主體\n",
    "4. 輸出"
   ]
  },
  {
   "cell_type": "markdown",
   "id": "dirty-train",
   "metadata": {
    "slideshow": {
     "slide_type": "subslide"
    }
   },
   "source": [
    "## 函數運作的過程就像買一杯珍珠奶茶\n",
    "\n",
    "![Imgur](https://i.imgur.com/6gpJebm.jpg?1)\n",
    "\n",
    "來源: Google 圖片"
   ]
  },
  {
   "cell_type": "markdown",
   "id": "suitable-learning",
   "metadata": {
    "slideshow": {
     "slide_type": "subslide"
    }
   },
   "source": [
    "## 函數有四個來源\n",
    "\n",
    "- 來自「內建函數」：<https://docs.python.org/3/library/functions.html>\n",
    "- 來自標準模組（套件）：<https://docs.python.org/3/library>\n",
    "- 來自第三方模組（套件）。\n",
    "- 來自使用者的定義。"
   ]
  },
  {
   "cell_type": "markdown",
   "id": "angry-treat",
   "metadata": {
    "slideshow": {
     "slide_type": "subslide"
    }
   },
   "source": [
    "## 來自「內建函數」\n",
    "\n",
    "<https://docs.python.org/3/library/functions.html>"
   ]
  },
  {
   "cell_type": "code",
   "execution_count": 2,
   "id": "allied-awareness",
   "metadata": {},
   "outputs": [
    {
     "name": "stdout",
     "output_type": "stream",
     "text": [
      "125\n"
     ]
    }
   ],
   "source": [
    "print(pow(5, 3))"
   ]
  },
  {
   "cell_type": "markdown",
   "id": "fluid-monroe",
   "metadata": {
    "slideshow": {
     "slide_type": "subslide"
    }
   },
   "source": [
    "## 來自標準模組（套件）\n",
    "\n",
    "<https://docs.python.org/3/library>"
   ]
  },
  {
   "cell_type": "code",
   "execution_count": 3,
   "id": "ignored-satellite",
   "metadata": {
    "slideshow": {
     "slide_type": "subslide"
    }
   },
   "outputs": [
    {
     "name": "stdout",
     "output_type": "stream",
     "text": [
      "11\n"
     ]
    }
   ],
   "source": [
    "from random import randint\n",
    "\n",
    "print(randint(1, 11))"
   ]
  },
  {
   "cell_type": "markdown",
   "id": "explicit-carbon",
   "metadata": {
    "slideshow": {
     "slide_type": "subslide"
    }
   },
   "source": [
    "## 來自第三方模組（套件）"
   ]
  },
  {
   "cell_type": "code",
   "execution_count": 4,
   "id": "determined-overall",
   "metadata": {},
   "outputs": [
    {
     "name": "stdout",
     "output_type": "stream",
     "text": [
      "[7 5 2 3 2]\n"
     ]
    }
   ],
   "source": [
    "from numpy.random import randint\n",
    "\n",
    "print(randint(1, 10, size=5))"
   ]
  },
  {
   "cell_type": "markdown",
   "id": "bound-column",
   "metadata": {
    "slideshow": {
     "slide_type": "subslide"
    }
   },
   "source": [
    "## 來自使用者的定義"
   ]
  },
  {
   "cell_type": "code",
   "execution_count": 5,
   "id": "commercial-workplace",
   "metadata": {},
   "outputs": [
    {
     "name": "stdout",
     "output_type": "stream",
     "text": [
      "125\n"
     ]
    }
   ],
   "source": [
    "def power(x, n):\n",
    "    out = x**n\n",
    "    return out\n",
    "\n",
    "print(power(5, 3))"
   ]
  },
  {
   "cell_type": "markdown",
   "id": "swiss-aside",
   "metadata": {
    "slideshow": {
     "slide_type": "subslide"
    }
   },
   "source": [
    "## 輸入與參數在函數定義與使用（呼叫）時的差別\n",
    "\n",
    "- 定義時稱為輸入（Inputs）或參數（Parameters）。\n",
    "- 使用（呼叫）函數時稱為引數（Arguments）。"
   ]
  },
  {
   "cell_type": "code",
   "execution_count": 6,
   "id": "measured-rotation",
   "metadata": {
    "slideshow": {
     "slide_type": "subslide"
    }
   },
   "outputs": [
    {
     "name": "stdout",
     "output_type": "stream",
     "text": [
      "125\n"
     ]
    }
   ],
   "source": [
    "def power(x, n):\n",
    "    out = x**n # Parameters\n",
    "    return out\n",
    "\n",
    "a = 5 # Argument\n",
    "b = 3 # Argument\n",
    "print(power(a, b)) # Arguments"
   ]
  },
  {
   "cell_type": "markdown",
   "id": "sealed-nutrition",
   "metadata": {
    "slideshow": {
     "slide_type": "subslide"
    }
   },
   "source": [
    "## 參數與引數的差別\n",
    "\n",
    "- 在自行定義的函數 `power(x, n)` 中 `x` 與 `n` 稱為輸入（Inputs）或參數（Parameters）。\n",
    "- 在呼叫自行定義的函數 `power(a, b)` 中 `a` 與 `b` 稱為引數（Arguments）。"
   ]
  },
  {
   "cell_type": "markdown",
   "id": "wrapped-feelings",
   "metadata": {
    "slideshow": {
     "slide_type": "subslide"
    }
   },
   "source": [
    "## 如何自行定義函數\n",
    "\n",
    "- `def` 用來定義函數的名稱。\n",
    "- `return` 用來標註函數的輸出。\n",
    "- 縮排用來標註函數的主體。"
   ]
  },
  {
   "cell_type": "markdown",
   "id": "responsible-programmer",
   "metadata": {
    "slideshow": {
     "slide_type": "subslide"
    }
   },
   "source": [
    "## 自行定義函數的結構\n",
    "\n",
    "\n",
    "```python\n",
    "def function_name(INPUTS, PARAMETERS, ...):\n",
    "    # body of function_name\n",
    "    \"\"\"\n",
    "    docstring: print documentation when help is called\n",
    "    \"\"\"\n",
    "    # sequence of statements\n",
    "    return OUTPUTS\n",
    "```"
   ]
  },
  {
   "cell_type": "markdown",
   "id": "palestinian-illustration",
   "metadata": {
    "slideshow": {
     "slide_type": "subslide"
    }
   },
   "source": [
    "## `return` 的作用\n",
    "\n",
    "- 回傳函數的預期輸出。\n",
    "- 為函數的主體畫下終止符。"
   ]
  },
  {
   "cell_type": "markdown",
   "id": "authorized-campus",
   "metadata": {
    "slideshow": {
     "slide_type": "subslide"
    }
   },
   "source": [
    "## 回傳函數的預期輸出"
   ]
  },
  {
   "cell_type": "code",
   "execution_count": 7,
   "id": "funny-italic",
   "metadata": {},
   "outputs": [
    {
     "name": "stdout",
     "output_type": "stream",
     "text": [
      "None\n"
     ]
    }
   ],
   "source": [
    "def power(x, n):\n",
    "    \"\"\"\n",
    "    Equivalent to x raised to the power of n.\n",
    "    \"\"\"\n",
    "    out = x**n\n",
    "\n",
    "print(power(5, 3))"
   ]
  },
  {
   "cell_type": "markdown",
   "id": "complete-instruction",
   "metadata": {
    "slideshow": {
     "slide_type": "subslide"
    }
   },
   "source": [
    "## 為函數的主體畫下終止符"
   ]
  },
  {
   "cell_type": "code",
   "execution_count": 8,
   "id": "weird-swing",
   "metadata": {},
   "outputs": [
    {
     "name": "stdout",
     "output_type": "stream",
     "text": [
      "5\n",
      "3\n",
      "125\n"
     ]
    }
   ],
   "source": [
    "def power(x, n):\n",
    "    \"\"\"\n",
    "    Equivalent to x raised to the power of n.\n",
    "    \"\"\"\n",
    "    print(x)\n",
    "    print(n)\n",
    "    out = x**n\n",
    "    return out\n",
    "\n",
    "print(power(5, 3))"
   ]
  },
  {
   "cell_type": "markdown",
   "id": "beneficial-relations",
   "metadata": {
    "slideshow": {
     "slide_type": "subslide"
    }
   },
   "source": [
    "## 即便寫在縮排的函數主體中，在 `return` 後所寫的程式並沒有作用"
   ]
  },
  {
   "cell_type": "code",
   "execution_count": 9,
   "id": "adopted-korean",
   "metadata": {},
   "outputs": [
    {
     "name": "stdout",
     "output_type": "stream",
     "text": [
      "125\n"
     ]
    }
   ],
   "source": [
    "def power(x, n):\n",
    "    \"\"\"\n",
    "    Equivalent to x raised to the power of n.\n",
    "    \"\"\"\n",
    "    out = x**n\n",
    "    return out\n",
    "    print(x)\n",
    "    print(n)\n",
    "\n",
    "print(power(5, 3))"
   ]
  },
  {
   "cell_type": "markdown",
   "id": "recent-picture",
   "metadata": {
    "slideshow": {
     "slide_type": "subslide"
    }
   },
   "source": [
    "## 變數的作用域（scope）\n",
    "\n",
    "> 在電腦程式設計中，作用域是名字與實體的繫結保持有效的那部分電腦程式。\n",
    "\n",
    "來源: https://en.wikipedia.org/wiki/Scope_(computer_science)"
   ]
  },
  {
   "cell_type": "markdown",
   "id": "intellectual-cabin",
   "metadata": {
    "slideshow": {
     "slide_type": "subslide"
    }
   },
   "source": [
    "## 簡而言之，存在有自行定義函數的狀態下，變數具有兩種類型\n",
    "\n",
    "1. 區域（local）\n",
    "2. 全域（global）"
   ]
  },
  {
   "cell_type": "markdown",
   "id": "imperial-windsor",
   "metadata": {
    "slideshow": {
     "slide_type": "subslide"
    }
   },
   "source": [
    "## 在函數的縮排中被宣告的是區域變數，僅有在縮排中才有效"
   ]
  },
  {
   "cell_type": "code",
   "execution_count": 10,
   "id": "casual-starter",
   "metadata": {
    "slideshow": {
     "slide_type": "-"
    }
   },
   "outputs": [
    {
     "name": "stdout",
     "output_type": "stream",
     "text": [
      "5\n",
      "3\n",
      "125\n",
      "125\n"
     ]
    }
   ],
   "source": [
    "def power(x, n):\n",
    "    out = x**n\n",
    "    print(x)\n",
    "    print(n)\n",
    "    print(out)\n",
    "    return out\n",
    "\n",
    "print(power(5, 3))"
   ]
  },
  {
   "cell_type": "markdown",
   "id": "optional-ceiling",
   "metadata": {
    "slideshow": {
     "slide_type": "subslide"
    }
   },
   "source": [
    "## 不是在函數縮排中被宣告的是全域變數，在任何地方都有效"
   ]
  },
  {
   "cell_type": "code",
   "execution_count": 11,
   "id": "corporate-massage",
   "metadata": {},
   "outputs": [
    {
     "name": "stdout",
     "output_type": "stream",
     "text": [
      "4\n",
      "2\n",
      "16\n",
      "16\n"
     ]
    }
   ],
   "source": [
    "x = 4\n",
    "n = 2\n",
    "out = x**n\n",
    "def power():\n",
    "    return out\n",
    "\n",
    "print(x)\n",
    "print(n)\n",
    "print(out)\n",
    "print(power())"
   ]
  },
  {
   "cell_type": "markdown",
   "id": "leading-palestine",
   "metadata": {
    "slideshow": {
     "slide_type": "subslide"
    }
   },
   "source": [
    "## 考量輸入與輸出的對應關係\n",
    "\n",
    "- 多個輸出\n",
    "- 多個輸入"
   ]
  },
  {
   "cell_type": "markdown",
   "id": "intensive-ireland",
   "metadata": {
    "slideshow": {
     "slide_type": "subslide"
    }
   },
   "source": [
    "## 「多個輸出」對應關係以資料結構處理\n",
    "\n",
    "- 預設以 `tuple` 資料結構應對多個輸出。\n",
    "- 可以自行調整偏好的資料結構。"
   ]
  },
  {
   "cell_type": "code",
   "execution_count": 12,
   "id": "wireless-stretch",
   "metadata": {
    "slideshow": {
     "slide_type": "subslide"
    }
   },
   "outputs": [
    {
     "name": "stdout",
     "output_type": "stream",
     "text": [
      "('P', 'y', 't')\n",
      "<class 'tuple'>\n"
     ]
    }
   ],
   "source": [
    "def first_three_characters(x):\n",
    "    if len(x) < 3:\n",
    "        return \"Cannot extract the first three characters from input string.\"\n",
    "    first_char, second_char, third_char = x[0], x[1], x[2]\n",
    "    return first_char, second_char, third_char\n",
    "\n",
    "print(first_three_characters(\"Python\"))\n",
    "print(type(first_three_characters(\"Python\")))"
   ]
  },
  {
   "cell_type": "code",
   "execution_count": 13,
   "id": "saved-syndrome",
   "metadata": {
    "slideshow": {
     "slide_type": "subslide"
    }
   },
   "outputs": [
    {
     "name": "stdout",
     "output_type": "stream",
     "text": [
      "['P', 'y', 't']\n",
      "<class 'list'>\n"
     ]
    }
   ],
   "source": [
    "def first_three_characters(x):\n",
    "    if len(x) < 3:\n",
    "        return \"Cannot extract the first three characters from input string.\"\n",
    "    first_char, second_char, third_char = x[0], x[1], x[2]\n",
    "    out = [first_char, second_char, third_char]\n",
    "    return out\n",
    "\n",
    "print(first_three_characters(\"Python\"))\n",
    "print(type(first_three_characters(\"Python\")))"
   ]
  },
  {
   "cell_type": "code",
   "execution_count": 14,
   "id": "entire-market",
   "metadata": {
    "slideshow": {
     "slide_type": "subslide"
    }
   },
   "outputs": [
    {
     "name": "stdout",
     "output_type": "stream",
     "text": [
      "{'1st': 'P', '2nd': 'y', '3rd': 't'}\n",
      "<class 'dict'>\n"
     ]
    }
   ],
   "source": [
    "def first_three_characters(x):\n",
    "    if len(x) < 3:\n",
    "        return \"Cannot extract the first three characters from input string.\"\n",
    "    first_char, second_char, third_char = x[0], x[1], x[2]\n",
    "    out = {\"1st\": first_char,\n",
    "           \"2nd\": second_char,\n",
    "           \"3rd\": third_char}\n",
    "    return out\n",
    "\n",
    "print(first_three_characters(\"Python\"))\n",
    "print(type(first_three_characters(\"Python\")))"
   ]
  },
  {
   "cell_type": "markdown",
   "id": "under-hunger",
   "metadata": {
    "slideshow": {
     "slide_type": "subslide"
    }
   },
   "source": [
    "## 「多個輸入」對應關係以資料結構或彈性參數處理\n",
    "\n",
    "- 使用資料結構作為一個輸入名稱。\n",
    "- 使用彈性參數：\n",
    "    - `*args`\n",
    "    - `**kwargs`"
   ]
  },
  {
   "cell_type": "code",
   "execution_count": 15,
   "id": "colored-mystery",
   "metadata": {
    "slideshow": {
     "slide_type": "subslide"
    }
   },
   "outputs": [
    {
     "name": "stdout",
     "output_type": "stream",
     "text": [
      "100\n",
      "289\n"
     ]
    }
   ],
   "source": [
    "def sum_and_square(x):\n",
    "    summation = sum(x)\n",
    "    out = summation**2\n",
    "    return out\n",
    "\n",
    "print(sum_and_square([2, 3, 5]))\n",
    "print(sum_and_square((2, 3, 5, 7)))"
   ]
  },
  {
   "cell_type": "markdown",
   "id": "august-demonstration",
   "metadata": {
    "slideshow": {
     "slide_type": "subslide"
    }
   },
   "source": [
    "## 彈性參數 `args` 可以在函數主體中以 `tuple` 形式運用"
   ]
  },
  {
   "cell_type": "code",
   "execution_count": 16,
   "id": "boolean-arkansas",
   "metadata": {
    "slideshow": {
     "slide_type": "-"
    }
   },
   "outputs": [
    {
     "name": "stdout",
     "output_type": "stream",
     "text": [
      "<class 'tuple'>\n",
      "100\n",
      "<class 'tuple'>\n",
      "289\n"
     ]
    }
   ],
   "source": [
    "def sum_and_square(*args):\n",
    "    print(type(args)) # tuple\n",
    "    summation = sum(args)\n",
    "    out = summation**2\n",
    "    return out\n",
    "\n",
    "print(sum_and_square(2, 3, 5))\n",
    "print(sum_and_square(2, 3, 5, 7))"
   ]
  },
  {
   "cell_type": "markdown",
   "id": "terminal-mumbai",
   "metadata": {
    "slideshow": {
     "slide_type": "subslide"
    }
   },
   "source": [
    "## 彈性參數 `kwargs` 可以在函數主體中以 `dict` 形式運用"
   ]
  },
  {
   "cell_type": "code",
   "execution_count": 17,
   "id": "muslim-utility",
   "metadata": {},
   "outputs": [
    {
     "name": "stdout",
     "output_type": "stream",
     "text": [
      "<class 'dict'>\n",
      "Country: Japan   Capital: Tokyo\n",
      "Country: USA     Capital: Washington D.C.\n",
      "Country: Taiwan  Capital: Taipei\n"
     ]
    }
   ],
   "source": [
    "def print_country_capital(**kwargs):\n",
    "    print(type(kwargs)) # dict\n",
    "    for key, value in kwargs.items():\n",
    "        print(\"Country: {:<7} Capital: {}\".format(key, value))\n",
    "\n",
    "print_country_capital(Japan=\"Tokyo\", USA=\"Washington D.C.\", Taiwan=\"Taipei\")"
   ]
  },
  {
   "cell_type": "markdown",
   "id": "binary-spanking",
   "metadata": {
    "slideshow": {
     "slide_type": "slide"
    }
   },
   "source": [
    "## 類別"
   ]
  },
  {
   "cell_type": "markdown",
   "id": "prescription-manhattan",
   "metadata": {
    "slideshow": {
     "slide_type": "subslide"
    }
   },
   "source": [
    "## 兩種不同的撰寫程式方法\n",
    "\n",
    "- 程序化程式設計（Procedural programming）。\n",
    "- 物件導向程式設計（Object-oriented programming, OOP）。"
   ]
  },
  {
   "cell_type": "markdown",
   "id": "compatible-senate",
   "metadata": {
    "slideshow": {
     "slide_type": "subslide"
    }
   },
   "source": [
    "## 程序化程式設計\n",
    "\n",
    "以函數為主體的撰寫程式方法稱為「程序化程式設計（Procedural programming）」，把即將要執行的程式碼組織為函數，並依序呼叫這些函數來完成任務。"
   ]
  },
  {
   "cell_type": "markdown",
   "id": "norman-diagram",
   "metadata": {
    "slideshow": {
     "slide_type": "subslide"
    }
   },
   "source": [
    "## 物件導向程式設計\n",
    "\n",
    "除了程序化程式設計，另外一種在軟體開發中被採用的撰寫程式方法稱為「物件導向程式設計（Object-oriented programming, OOP）」。"
   ]
  },
  {
   "cell_type": "markdown",
   "id": "interstate-shape",
   "metadata": {
    "slideshow": {
     "slide_type": "subslide"
    }
   },
   "source": [
    "## 「類別」是物件導向程式設計的第一步\n",
    "\n",
    "- 定義類別是一種讓使用者自行設計資料類型或結構的機制。\n",
    "- `type` 函數所顯示的 `class` 就是「類別」。\n",
    "- 物件（Object）稱為類別的實例（Instance）。"
   ]
  },
  {
   "cell_type": "markdown",
   "id": "diverse-boards",
   "metadata": {
    "slideshow": {
     "slide_type": "subslide"
    }
   },
   "source": [
    "## `luke` 物件是 `str` 類別的實例"
   ]
  },
  {
   "cell_type": "code",
   "execution_count": 34,
   "id": "regulated-boundary",
   "metadata": {
    "slideshow": {
     "slide_type": "-"
    }
   },
   "outputs": [
    {
     "name": "stdout",
     "output_type": "stream",
     "text": [
      "<class 'str'>\n"
     ]
    }
   ],
   "source": [
    "luke = \"Luke Skywalker\" \n",
    "print(type(luke))"
   ]
  },
  {
   "cell_type": "markdown",
   "id": "demonstrated-parent",
   "metadata": {
    "slideshow": {
     "slide_type": "subslide"
    }
   },
   "source": [
    "## `skywalkers` 物件是 `list` 類別的實例"
   ]
  },
  {
   "cell_type": "code",
   "execution_count": 35,
   "id": "demonstrated-nicholas",
   "metadata": {
    "slideshow": {
     "slide_type": "-"
    }
   },
   "outputs": [
    {
     "name": "stdout",
     "output_type": "stream",
     "text": [
      "<class 'list'>\n"
     ]
    }
   ],
   "source": [
    "skywalkers = [\"Luke Skywalker\", \"Anakin Skywalker\", \"Darth Vadar\"]\n",
    "print(type(skywalkers))"
   ]
  },
  {
   "cell_type": "markdown",
   "id": "molecular-ministry",
   "metadata": {
    "slideshow": {
     "slide_type": "subslide"
    }
   },
   "source": [
    "## 類別之於物件的關係\n",
    "\n",
    "- 類別如同藍圖一般的存在。\n",
    "- 物件如同依照藍圖所打造出來的終端產品。"
   ]
  },
  {
   "cell_type": "markdown",
   "id": "likely-newfoundland",
   "metadata": {
    "slideshow": {
     "slide_type": "subslide"
    }
   },
   "source": [
    "## 為什麼我們需要定義類別？\n",
    "\n",
    "- 當內建函數或模組（套件）的函數無法滿足需求時，我們定義函數。\n",
    "- 當內建類別或模組（套件）的類別無法滿足需求時，我們定義類別。"
   ]
  },
  {
   "cell_type": "markdown",
   "id": "satisfied-priest",
   "metadata": {
    "slideshow": {
     "slide_type": "subslide"
    }
   },
   "source": [
    "## 常用的內建類別\n",
    "\n",
    "- 變數類型\n",
    "    - `int`\n",
    "    - `float`\n",
    "    - `str`\n",
    "    - `bool`\n",
    "    - `NoneType`"
   ]
  },
  {
   "cell_type": "markdown",
   "id": "southeast-volume",
   "metadata": {
    "slideshow": {
     "slide_type": "subslide"
    }
   },
   "source": [
    "## 常用的內建類別（續）\n",
    "\n",
    "- 資料結構\n",
    "    - `list`\n",
    "    - `tuple`\n",
    "    - `dict`\n",
    "    - `set`"
   ]
  },
  {
   "cell_type": "markdown",
   "id": "checked-international",
   "metadata": {
    "slideshow": {
     "slide_type": "subslide"
    }
   },
   "source": [
    "## 資料分析的模組（套件）類別\n",
    "\n",
    "- 資料結構\n",
    "    - `numpy.ndarray`\n",
    "    - `pandas.Index`\n",
    "    - `pandas.Series`\n",
    "    - `pandas.DataFrame`"
   ]
  },
  {
   "cell_type": "markdown",
   "id": "looking-magnitude",
   "metadata": {
    "slideshow": {
     "slide_type": "subslide"
    }
   },
   "source": [
    "## 設計類別時可以定義函數與資料\n",
    "\n",
    "- 與類別綁定的函數，在實例化後稱為物件的方法（Methods）。\n",
    "- 與類別綁定的資料，在實例化後稱為物件的屬性（Attributes）。"
   ]
  },
  {
   "cell_type": "markdown",
   "id": "absolute-worship",
   "metadata": {
    "slideshow": {
     "slide_type": "subslide"
    }
   },
   "source": [
    "## 使用內建函數 `dir` 檢視物件的方法與屬性"
   ]
  },
  {
   "cell_type": "code",
   "execution_count": 36,
   "id": "attached-duration",
   "metadata": {},
   "outputs": [
    {
     "name": "stdout",
     "output_type": "stream",
     "text": [
      "['__add__', '__class__', '__contains__', '__delattr__', '__dir__', '__doc__', '__eq__', '__format__', '__ge__', '__getattribute__', '__getitem__', '__getnewargs__', '__gt__', '__hash__', '__init__', '__init_subclass__', '__iter__', '__le__', '__len__', '__lt__', '__mod__', '__mul__', '__ne__', '__new__', '__reduce__', '__reduce_ex__', '__repr__', '__rmod__', '__rmul__', '__setattr__', '__sizeof__', '__str__', '__subclasshook__', 'capitalize', 'casefold', 'center', 'count', 'encode', 'endswith', 'expandtabs', 'find', 'format', 'format_map', 'index', 'isalnum', 'isalpha', 'isascii', 'isdecimal', 'isdigit', 'isidentifier', 'islower', 'isnumeric', 'isprintable', 'isspace', 'istitle', 'isupper', 'join', 'ljust', 'lower', 'lstrip', 'maketrans', 'partition', 'replace', 'rfind', 'rindex', 'rjust', 'rpartition', 'rsplit', 'rstrip', 'split', 'splitlines', 'startswith', 'strip', 'swapcase', 'title', 'translate', 'upper', 'zfill']\n"
     ]
    }
   ],
   "source": [
    "# luke 物件是 str 類別的實例\n",
    "luke = \"Luke Skywalker\" \n",
    "print(dir(luke))"
   ]
  },
  {
   "cell_type": "code",
   "execution_count": 37,
   "id": "computational-montana",
   "metadata": {
    "slideshow": {
     "slide_type": "subslide"
    }
   },
   "outputs": [
    {
     "name": "stdout",
     "output_type": "stream",
     "text": [
      "['__add__', '__class__', '__contains__', '__delattr__', '__delitem__', '__dir__', '__doc__', '__eq__', '__format__', '__ge__', '__getattribute__', '__getitem__', '__gt__', '__hash__', '__iadd__', '__imul__', '__init__', '__init_subclass__', '__iter__', '__le__', '__len__', '__lt__', '__mul__', '__ne__', '__new__', '__reduce__', '__reduce_ex__', '__repr__', '__reversed__', '__rmul__', '__setattr__', '__setitem__', '__sizeof__', '__str__', '__subclasshook__', 'append', 'clear', 'copy', 'count', 'extend', 'index', 'insert', 'pop', 'remove', 'reverse', 'sort']\n"
     ]
    }
   ],
   "source": [
    "# skywalkers 物件是 list 類別的實例\n",
    "skywalkers = [\"Luke Skywalker\", \"Anakin Skywalker\", \"Darth Vadar\"]\n",
    "print(dir(skywalkers))"
   ]
  },
  {
   "cell_type": "markdown",
   "id": "peripheral-bolivia",
   "metadata": {
    "slideshow": {
     "slide_type": "subslide"
    }
   },
   "source": [
    "## 使用 `class` 保留字定義類別\n",
    "\n",
    "```python\n",
    "class ClassName:\n",
    "    \"\"\"\n",
    "    docstring: print documentation when __doc__ attribute is accessed\n",
    "    \"\"\"\n",
    "    pass\n",
    "```"
   ]
  },
  {
   "cell_type": "code",
   "execution_count": 1,
   "id": "sonic-links",
   "metadata": {
    "slideshow": {
     "slide_type": "subslide"
    }
   },
   "outputs": [
    {
     "name": "stdout",
     "output_type": "stream",
     "text": [
      "<class '__main__.SimpleCalculator'>\n",
      "['__class__', '__delattr__', '__dict__', '__dir__', '__doc__', '__eq__', '__format__', '__ge__', '__getattribute__', '__gt__', '__hash__', '__init__', '__init_subclass__', '__le__', '__lt__', '__module__', '__ne__', '__new__', '__reduce__', '__reduce_ex__', '__repr__', '__setattr__', '__sizeof__', '__str__', '__subclasshook__', '__weakref__']\n",
      "\n",
      "    This class creates a simple calculator that is unable to do anything.\n",
      "    \n"
     ]
    }
   ],
   "source": [
    "class SimpleCalculator:\n",
    "    \"\"\"\n",
    "    This class creates a simple calculator that is unable to do anything.\n",
    "    \"\"\"\n",
    "    pass\n",
    "\n",
    "sc = SimpleCalculator()\n",
    "print(type(sc))\n",
    "print(dir(sc))\n",
    "print(sc.__doc__)"
   ]
  },
  {
   "cell_type": "markdown",
   "id": "liberal-excellence",
   "metadata": {
    "slideshow": {
     "slide_type": "subslide"
    }
   },
   "source": [
    "## 在類別程式區塊中使用 `def` 保留字將函數與類別綁定\n",
    "\n",
    "與類別綁定的函數，在實例化後稱為物件的方法。\n",
    "\n",
    "```python\n",
    "class ClassName:\n",
    "    \"\"\"\n",
    "    docstring: print documentation when __doc__ attribute is accessed\n",
    "    \"\"\"\n",
    "    def method_name(self):\n",
    "        # sequence of statements\n",
    "```"
   ]
  },
  {
   "cell_type": "markdown",
   "id": "regular-humidity",
   "metadata": {
    "slideshow": {
     "slide_type": "subslide"
    }
   },
   "source": [
    "## 如何理解 `self` 的抽象概念？\n",
    "\n",
    "- 物件是類別的實例。\n",
    "- 類別所綁定的函數在實例化後是物件的方法，呼叫時要指定物件名稱。\n",
    "- 實例化的物件名稱是由使用者所決定的。\n",
    "- 想在定義類別的階段描述方法，必須要先給物件一個代稱：`self`。"
   ]
  },
  {
   "cell_type": "code",
   "execution_count": 39,
   "id": "ranging-madrid",
   "metadata": {
    "slideshow": {
     "slide_type": "subslide"
    }
   },
   "outputs": [
    {
     "name": "stdout",
     "output_type": "stream",
     "text": [
      "11\n"
     ]
    }
   ],
   "source": [
    "class SimpleCalculator:\n",
    "    \"\"\"\n",
    "    This class creates a simple calculator that is able to add 2 numbers.\n",
    "    \"\"\"\n",
    "    def add(self, a, b):\n",
    "        out = a + b\n",
    "        return out\n",
    "\n",
    "sc = SimpleCalculator() # self proxies object sc\n",
    "print(sc.add(5, 6))"
   ]
  },
  {
   "cell_type": "markdown",
   "id": "respective-hughes",
   "metadata": {
    "slideshow": {
     "slide_type": "subslide"
    }
   },
   "source": [
    "## `sc` 物件是 `SimpleCalculator` 類別的實例\n",
    "\n",
    "- `sc` 物件有一個方法 `add(a, b)` 可以回傳兩數相加的結果。\n",
    "- 使用 `sc.add(a, b)` 語法來呼叫方法。"
   ]
  },
  {
   "cell_type": "markdown",
   "id": "hairy-nickname",
   "metadata": {
    "slideshow": {
     "slide_type": "subslide"
    }
   },
   "source": [
    "## 在類別程式區塊中使用 `__init__` 函數將資料與類別綁定\n",
    "\n",
    "- 與類別綁定的資料，在實例化後稱為物件的屬性。\n",
    "- 開頭與結尾具有雙底線 `__` 的命名是 Python 的特殊命名，具備特殊用途。\n",
    "- `__init__` 函數顧名思義就是在實例化（Instantialize）當下會被呼叫的函數。"
   ]
  },
  {
   "cell_type": "markdown",
   "id": "activated-coral",
   "metadata": {
    "slideshow": {
     "slide_type": "subslide"
    }
   },
   "source": [
    "```python\n",
    "class ClassName:\n",
    "    \"\"\"\n",
    "    docstring: print documentation when __doc__ attribute is accessed\n",
    "    \"\"\"\n",
    "    def __init__(self, attributes):\n",
    "        # sequence of statements\n",
    "```"
   ]
  },
  {
   "cell_type": "code",
   "execution_count": 40,
   "id": "introductory-western",
   "metadata": {
    "slideshow": {
     "slide_type": "subslide"
    }
   },
   "outputs": [
    {
     "name": "stdout",
     "output_type": "stream",
     "text": [
      "5\n",
      "6\n"
     ]
    }
   ],
   "source": [
    "class SimpleCalculator:\n",
    "    \"\"\"\n",
    "    This class creates a simple calculator that has 2 attributes.\n",
    "    \"\"\"\n",
    "    def __init__(self, a, b):\n",
    "        self.a = a\n",
    "        self.b = b\n",
    "\n",
    "sc = SimpleCalculator(5, 6) # self proxies object sc\n",
    "print(sc.a)\n",
    "print(sc.b)"
   ]
  },
  {
   "cell_type": "markdown",
   "id": "isolated-leather",
   "metadata": {
    "slideshow": {
     "slide_type": "subslide"
    }
   },
   "source": [
    "## `sc` 物件是 `SimpleCalculator` 類別的實例\n",
    "\n",
    "- `SimpleCalculator` 類別實例化成為 `sc` 物件的時候呼叫 `__init__` 函數。\n",
    "- `__init__` 函數賦予了 `sc` 物件兩個屬性：\n",
    "    - 使用 `sc.a` 語法來取用屬性 `a`。\n",
    "    - 使用 `sc.b` 語法來取用屬性 `b`。"
   ]
  },
  {
   "cell_type": "code",
   "execution_count": 41,
   "id": "tutorial-swiss",
   "metadata": {
    "slideshow": {
     "slide_type": "subslide"
    }
   },
   "outputs": [
    {
     "name": "stdout",
     "output_type": "stream",
     "text": [
      "11\n"
     ]
    }
   ],
   "source": [
    "# 若想在類別程式區塊中使用屬性，可以 self.attribute 語法取用\n",
    "class SimpleCalculator:\n",
    "    \"\"\"\n",
    "    This class creates a simple calculator that has 2 attributes and 1 method.\n",
    "    \"\"\"\n",
    "    def __init__(self, a, b):\n",
    "        self.a = a\n",
    "        self.b = b\n",
    "    def add(self):\n",
    "        out = self.a + self.b # 以 self.a, self.b 語法取用\n",
    "        return out\n",
    "\n",
    "sc = SimpleCalculator(5, 6) # self proxies object sc\n",
    "print(sc.add())"
   ]
  },
  {
   "cell_type": "code",
   "execution_count": 42,
   "id": "arabic-scratch",
   "metadata": {
    "slideshow": {
     "slide_type": "subslide"
    }
   },
   "outputs": [
    {
     "name": "stdout",
     "output_type": "stream",
     "text": [
      "121\n"
     ]
    }
   ],
   "source": [
    "# 若想在類別程式區塊中使用方法，可以 self.method 語法呼叫\n",
    "class SimpleCalculator:\n",
    "    \"\"\"\n",
    "    This class creates a simple calculator that has 2 attributes and 2 methods.\n",
    "    \"\"\"\n",
    "    def __init__(self, a, b):\n",
    "        self.a = a\n",
    "        self.b = b\n",
    "    def add(self):\n",
    "        out = self.a + self.b\n",
    "        return out\n",
    "    def add_and_square(self):\n",
    "        add_result = self.add() # 以 self.add() 語法呼叫\n",
    "        out = add_result**2\n",
    "        return out\n",
    "\n",
    "sc = SimpleCalculator(5, 6) # self proxies object sc\n",
    "print(sc.add_and_square())"
   ]
  },
  {
   "cell_type": "markdown",
   "id": "flexible-analysis",
   "metadata": {
    "slideshow": {
     "slide_type": "subslide"
    }
   },
   "source": [
    "## 在類別程式區塊中使用 `__repr__` 函數設計實例化之後物件在 `print` 函數的顯示"
   ]
  },
  {
   "cell_type": "code",
   "execution_count": 43,
   "id": "identified-amino",
   "metadata": {},
   "outputs": [
    {
     "name": "stdout",
     "output_type": "stream",
     "text": [
      "<__main__.SimpleCalculator object at 0x7f8549c8e970>\n"
     ]
    }
   ],
   "source": [
    "# 沒有 __repr__ 函數\n",
    "class SimpleCalculator:\n",
    "    \"\"\"\n",
    "    This class creates a simple calculator that has 2 attributes.\n",
    "    \"\"\"\n",
    "    def __init__(self, a, b):\n",
    "        self.a = a\n",
    "        self.b = b\n",
    "sc = SimpleCalculator(5, 6) # self proxies object sc\n",
    "print(sc)"
   ]
  },
  {
   "cell_type": "code",
   "execution_count": 44,
   "id": "statutory-yield",
   "metadata": {
    "slideshow": {
     "slide_type": "subslide"
    }
   },
   "outputs": [
    {
     "name": "stdout",
     "output_type": "stream",
     "text": [
      "a: 5, b: 6\n"
     ]
    }
   ],
   "source": [
    "# 有 __repr__ 函數\n",
    "class SimpleCalculator:\n",
    "    \"\"\"\n",
    "    This class creates a simple calculator that has 2 attributes and 1 method.\n",
    "    \"\"\"\n",
    "    def __init__(self, a, b):\n",
    "        self.a = a\n",
    "        self.b = b\n",
    "    def __repr__(self):\n",
    "        out = \"a: {}, b: {}\".format(self.a, self.b)\n",
    "        return out\n",
    "    def add(self):\n",
    "        out = self.a + self.b\n",
    "        return out\n",
    "sc = SimpleCalculator(5, 6) # self proxies object sc\n",
    "print(sc)"
   ]
  },
  {
   "cell_type": "markdown",
   "id": "tamil-china",
   "metadata": {
    "slideshow": {
     "slide_type": "subslide"
    }
   },
   "source": [
    "## 使用 `ChildClass(ParentClass)` 語法繼承先前定義好的類別屬性、方法"
   ]
  },
  {
   "cell_type": "code",
   "execution_count": 45,
   "id": "further-bikini",
   "metadata": {},
   "outputs": [
    {
     "name": "stdout",
     "output_type": "stream",
     "text": [
      "a: 5, b: 6\n",
      "True\n",
      "True\n",
      "True\n"
     ]
    }
   ],
   "source": [
    "class IntermediateCalculator(SimpleCalculator):\n",
    "    pass\n",
    "ic = IntermediateCalculator(5, 6)\n",
    "print(ic)\n",
    "print(\"a\" in dir(ic))\n",
    "print(\"b\" in dir(ic))\n",
    "print(\"add\" in dir(ic))"
   ]
  },
  {
   "cell_type": "markdown",
   "id": "aboriginal-princess",
   "metadata": {
    "slideshow": {
     "slide_type": "subslide"
    }
   },
   "source": [
    "## 繼承之後可以新增類別屬性"
   ]
  },
  {
   "cell_type": "code",
   "execution_count": 46,
   "id": "equal-focus",
   "metadata": {},
   "outputs": [
    {
     "name": "stdout",
     "output_type": "stream",
     "text": [
      "True\n"
     ]
    }
   ],
   "source": [
    "class IntermediateCalculator(SimpleCalculator):\n",
    "    def __init__(self, a, b, c):\n",
    "        SimpleCalculator.__init__(self, a, b)\n",
    "        self.c = c\n",
    "ic = IntermediateCalculator(5, 6, 7)\n",
    "print(\"c\" in dir(ic))"
   ]
  },
  {
   "cell_type": "markdown",
   "id": "lasting-vacuum",
   "metadata": {
    "slideshow": {
     "slide_type": "subslide"
    }
   },
   "source": [
    "## 繼承之後可以新增、改寫類別方法"
   ]
  },
  {
   "cell_type": "code",
   "execution_count": 47,
   "id": "bibliographic-heath",
   "metadata": {},
   "outputs": [
    {
     "name": "stdout",
     "output_type": "stream",
     "text": [
      "a: 5, b: 6, c: 7\n",
      "True\n"
     ]
    }
   ],
   "source": [
    "class IntermediateCalculator(SimpleCalculator):\n",
    "    def __init__(self, a, b, c):\n",
    "        SimpleCalculator.__init__(self, a, b)\n",
    "        self.c = c\n",
    "    def __repr__(self):\n",
    "        out = \"a: {}, b: {}, c: {}\".format(self.a, self.b, self.c)\n",
    "        return out\n",
    "    def multiply(self):\n",
    "        out = self.a * self.b * self.c\n",
    "        return out\n",
    "ic = IntermediateCalculator(5, 6, 7)\n",
    "print(ic)\n",
    "print(\"multiply\" in dir(ic))"
   ]
  },
  {
   "cell_type": "markdown",
   "id": "understanding-sight",
   "metadata": {
    "slideshow": {
     "slide_type": "subslide"
    }
   },
   "source": [
    "## 資料分析師必須理解類別的定義\n",
    "\n",
    "- 類別是一種將資料與函數與實例綁定的機制。\n",
    "- 類別實例化之後被稱為物件，定義的資料與函數在此時就被改稱為\n",
    "    - 資料：物件的「屬性」。\n",
    "    - 函數：物件的「方法」。"
   ]
  },
  {
   "cell_type": "markdown",
   "id": "surgical-carolina",
   "metadata": {
    "slideshow": {
     "slide_type": "subslide"
    }
   },
   "source": [
    "## 類別同時扮演下列主題的「敲門磚」\n",
    "\n",
    "- 物件導向程式設計。\n",
    "- 資料結構與演算法。\n",
    "- 設計模式。"
   ]
  },
  {
   "cell_type": "markdown",
   "id": "cross-paper",
   "metadata": {
    "slideshow": {
     "slide_type": "slide"
    }
   },
   "source": [
    "## 模組（套件）"
   ]
  },
  {
   "cell_type": "markdown",
   "id": "finnish-timer",
   "metadata": {
    "slideshow": {
     "slide_type": "subslide"
    }
   },
   "source": [
    "## 什麼是模組（套件）？\n",
    "\n",
    "模組（Module）或者套件（Library）指的是以檔案或資料夾形式，來組織 Python 的函數以及類別。"
   ]
  },
  {
   "cell_type": "markdown",
   "id": "positive-thumb",
   "metadata": {
    "slideshow": {
     "slide_type": "subslide"
    }
   },
   "source": [
    "## 檔案與資料夾形式\n",
    "\n",
    "- 檔案的名稱為模組（套件）名，副檔名為 `.py`，例如 `my_module.py` 就是命名為 `my_module` 的模組（套件）。\n",
    "- 檔案可以進一步收納到資料夾之中，資料夾的名稱為模組（套件）名，例如 `my_library` 就是命名為 `my_library` 的模組（套件）。"
   ]
  },
  {
   "cell_type": "markdown",
   "id": "complex-turner",
   "metadata": {
    "slideshow": {
     "slide_type": "subslide"
    }
   },
   "source": [
    "## 模組（套件）有三個來源\n",
    "\n",
    "- 標準模組（套件）。\n",
    "- 第三方模組（套件）。\n",
    "- 來自使用者的定義。"
   ]
  },
  {
   "cell_type": "markdown",
   "id": "signed-hollow",
   "metadata": {
    "slideshow": {
     "slide_type": "subslide"
    }
   },
   "source": [
    "## 使用 `import` 載入已安裝好的模組（套件）\n",
    "\n",
    "- 以 `module` 命名使用。\n",
    "- 或者以 `alias` 命名使用。\n",
    "- 模組中的函數、類別都用 `.` 來表示從屬關係。\n",
    "\n",
    "```python\n",
    "import module\n",
    "import module as alias\n",
    "```"
   ]
  },
  {
   "cell_type": "markdown",
   "id": "round-nicaragua",
   "metadata": {
    "slideshow": {
     "slide_type": "subslide"
    }
   },
   "source": [
    "## 使用 `from module import feature` 載入模組（套件）中的部分功能\n",
    "\n",
    "- 部分功能 `feature` 可以是函數或者類別。\n",
    "- 模組中的函數、類別都用 `.` 來表示從屬關係。\n",
    "\n",
    "```python\n",
    "from module import function_name # from module import function_name as alias\n",
    "from module import class_name    # from module import class_name as alias\n",
    "```"
   ]
  },
  {
   "cell_type": "markdown",
   "id": "nonprofit-salvation",
   "metadata": {
    "slideshow": {
     "slide_type": "subslide"
    }
   },
   "source": [
    "## 標準模組（套件）\n",
    "\n",
    "- 伴隨 Python 直譯器（安裝來自 <https://www.python.org> 的版本）而來的模組套件。\n",
    "- <https://docs.python.org/3/library>"
   ]
  },
  {
   "cell_type": "code",
   "execution_count": 48,
   "id": "further-uruguay",
   "metadata": {
    "slideshow": {
     "slide_type": "subslide"
    }
   },
   "outputs": [
    {
     "name": "stdout",
     "output_type": "stream",
     "text": [
      "8\n",
      "10\n",
      "11\n"
     ]
    }
   ],
   "source": [
    "# 標準模組（套件）\n",
    "import random\n",
    "import random as rand\n",
    "from random import randint\n",
    "\n",
    "print(random.randint(1, 11))\n",
    "print(rand.randint(1, 11))\n",
    "print(randint(1, 11))"
   ]
  },
  {
   "cell_type": "markdown",
   "id": "applied-technique",
   "metadata": {
    "slideshow": {
     "slide_type": "subslide"
    }
   },
   "source": [
    "## 第三方模組（套件）\n",
    "\n",
    "- 並非伴隨 Python 直譯器（安裝來自 <https://www.python.org> 的版本）而來的模組套件。\n",
    "- 載入前要確認在環境中第三方模組（套件）已經安裝妥當\n",
    "- 未安裝（或更新）在終端機（Anaconda Prompt) 以 `pip install -U module_name` 語法安裝（或更新）。"
   ]
  },
  {
   "cell_type": "markdown",
   "id": "unlikely-length",
   "metadata": {
    "slideshow": {
     "slide_type": "subslide"
    }
   },
   "source": [
    "## 什麼是 `pip`？\n",
    "\n",
    "`pip` 是 Python 的模組（套件）管理系統，可以用來從 [PyPI（Python Package Index）](https://pypi.org/)下載、安裝和管理模組（套件），目前的 Python 版本都會預先安裝 `pip`。\n",
    "\n",
    "Source: <https://pip.pypa.io/en/stable>"
   ]
  },
  {
   "cell_type": "code",
   "execution_count": 49,
   "id": "neural-recording",
   "metadata": {
    "slideshow": {
     "slide_type": "subslide"
    }
   },
   "outputs": [
    {
     "name": "stdout",
     "output_type": "stream",
     "text": [
      "[9 3 9 9 1]\n",
      "[4 2 3 1 6]\n",
      "[1 9 6 8 2]\n"
     ]
    }
   ],
   "source": [
    "#第三方模組（套件）\n",
    "import numpy\n",
    "import numpy as np\n",
    "from numpy import random\n",
    "\n",
    "print(numpy.random.randint(1, 10, size=5))\n",
    "print(np.random.randint(1, 10, size=5))\n",
    "print(random.randint(1, 10, size=5))"
   ]
  },
  {
   "cell_type": "markdown",
   "id": "helpful-difficulty",
   "metadata": {
    "slideshow": {
     "slide_type": "subslide"
    }
   },
   "source": [
    "## 標準以及第三方模組（套件）的安裝路徑\n",
    "\n",
    "- 標準模組（套件）安裝在 `path_to_python_env/lib/python3.x`。\n",
    "- 第三方模組（套件）安裝在 `path_to_python_env/lib/python3.x/site-packages`。"
   ]
  },
  {
   "cell_type": "markdown",
   "id": "flying-country",
   "metadata": {
    "slideshow": {
     "slide_type": "subslide"
    }
   },
   "source": [
    "## 來自使用者的定義\n",
    "\n",
    "- 將函數、類別撰寫在工作目錄（Working directory）下副檔名為 `.py` 的檔案中。\n",
    "- 若有多個檔案可以用一個資料夾收納起來。\n",
    "- 檔案與資料夾就是模組（套件）命名，其中的函數、類別都用 `.` 來表示從屬關係。"
   ]
  },
  {
   "cell_type": "markdown",
   "id": "behind-vehicle",
   "metadata": {
    "slideshow": {
     "slide_type": "subslide"
    }
   },
   "source": [
    "## 在工作目錄新增 `simple_calculator.py`\n",
    "\n",
    "複製貼上後存檔。\n",
    "\n",
    "```python\n",
    "class SimpleCalculator:\n",
    "    \"\"\"\n",
    "    This class creates a simple calculator that has 2 attributes and 1 method.\n",
    "    \"\"\"\n",
    "    def __init__(self, a, b):\n",
    "        self.a = a\n",
    "        self.b = b\n",
    "    def __repr__(self):\n",
    "        out = \"a: {}, b: {}\".format(self.a, self.b)\n",
    "        return out\n",
    "    def add(self):\n",
    "        out = self.a + self.b\n",
    "        return out\n",
    "```"
   ]
  },
  {
   "cell_type": "code",
   "execution_count": 50,
   "id": "proof-sarah",
   "metadata": {
    "slideshow": {
     "slide_type": "subslide"
    }
   },
   "outputs": [
    {
     "name": "stdout",
     "output_type": "stream",
     "text": [
      "11\n"
     ]
    }
   ],
   "source": [
    "from simple_calculator import SimpleCalculator\n",
    "\n",
    "sc = SimpleCalculator(5, 6)\n",
    "print(sc.add())"
   ]
  },
  {
   "cell_type": "markdown",
   "id": "advanced-interface",
   "metadata": {
    "slideshow": {
     "slide_type": "subslide"
    }
   },
   "source": [
    "## 目前我們不需要自行建立模組（套件）\n",
    "\n",
    "但我們應該要能區分模組（套件）中的函數、類別以及實例化後物件的屬性、方法。"
   ]
  },
  {
   "cell_type": "code",
   "execution_count": 51,
   "id": "revolutionary-macintosh",
   "metadata": {
    "slideshow": {
     "slide_type": "subslide"
    }
   },
   "outputs": [
    {
     "name": "stdout",
     "output_type": "stream",
     "text": [
      "5\n",
      "28\n"
     ]
    }
   ],
   "source": [
    "import numpy as np\n",
    "\n",
    "arr = np.array([2, 3, 5, 7, 11])  # the function of numpy library\n",
    "print(arr.size)                   # the attribute of an arr object\n",
    "print(arr.sum())                  # the method of an arr object"
   ]
  }
 ],
 "metadata": {
  "celltoolbar": "Slideshow",
  "kernelspec": {
   "display_name": "Python Data Science",
   "language": "python",
   "name": "pyds"
  },
  "language_info": {
   "codemirror_mode": {
    "name": "ipython",
    "version": 3
   },
   "file_extension": ".py",
   "mimetype": "text/x-python",
   "name": "python",
   "nbconvert_exporter": "python",
   "pygments_lexer": "ipython3",
   "version": "3.8.10"
  }
 },
 "nbformat": 4,
 "nbformat_minor": 5
}
