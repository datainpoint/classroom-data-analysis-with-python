{
 "cells": [
  {
   "cell_type": "markdown",
   "metadata": {
    "deletable": false,
    "editable": false
   },
   "source": [
    "# Python 資料分析\n",
    "\n",
    "> 重要觀念複習：函數、類別與模組（套件）\n",
    "\n",
    "[數據交點](https://www.datainpoint.com/) | 郭耀仁 <yaojenkuo@datainpoint.com>"
   ]
  },
  {
   "cell_type": "code",
   "execution_count": 1,
   "metadata": {
    "deletable": false
   },
   "outputs": [],
   "source": [
    "import os\n",
    "import json\n",
    "import unittest"
   ]
  },
  {
   "cell_type": "markdown",
   "metadata": {
    "deletable": false,
    "editable": false
   },
   "source": [
    "## 練習題指引\n",
    "\n",
    "- 第一個程式碼儲存格會將可能用得到的模組（套件）以及單元測試 `unittest` 載入。\n",
    "- 如果練習題需要載入檔案，檔案與練習題存放在同個資料夾中，意即我們可以指定工作目錄來載入。\n",
    "- 練習題已經定義好函數或者類別的名稱以及參數名稱，我們只需要寫作主體。\n",
    "- 函數或者類別的 `\"\"\"docstring\"\"\"` 部分會描述測試如何進行。\n",
    "- 觀察 `\"\"\"docstring\"\"\"` 的部分能夠暸解輸入以及預期輸出之間的關係，能幫助我們更暸解題目。\n",
    "- 請在 `### BEGIN SOLUTION` 與 `### END SOLUTION` 這兩個單行註解之間寫作函數或者類別的主體。\n",
    "- 執行測試的方式為點選上方選單的 Kernel -> Restart Kernel And Run All Cells -> Restart。\n",
    "- 可以每寫一題就執行測試，也可以全部寫完再執行測試。\n",
    "- 練習題閒置超過 10 分鐘會自動斷線，這時只要重新點選練習題連結即可重新啟動。"
   ]
  },
  {
   "cell_type": "markdown",
   "metadata": {},
   "source": [
    "## 01. Define a function named `square_negatives_from_args(*args)` which takes flexible integers and returns positive ones in a list.\n",
    "\n",
    "- Expected inputs: `*args`.\n",
    "- Expected outputs: `list`."
   ]
  },
  {
   "cell_type": "code",
   "execution_count": 2,
   "metadata": {},
   "outputs": [],
   "source": [
    "def square_negatives_from_args(*args) -> list:\n",
    "    \"\"\"\n",
    "    >>> square_negatives_from_args(-3, -2, -1, 0, 1, 2, 3)\n",
    "    [9, 4, 1]\n",
    "    >>> square_negatives_from_args(-3, -2, -1, 0, 1, 2, 3, '4', '5')\n",
    "    [9, 4, 1]\n",
    "    >>> square_negatives_from_args(-3, -2, -1, False, True, 2, 3, '4', '5')\n",
    "    [9, 4, 1]\n",
    "    \"\"\"\n",
    "    ### BEGIN SOLUTION\n",
    "    squared_negatives = [arg**2 for arg in args if (isinstance(arg, int)) and (arg < 0)]\n",
    "    return squared_negatives\n",
    "    ### END SOLUTION"
   ]
  },
  {
   "cell_type": "markdown",
   "metadata": {},
   "source": [
    "## 02. Define a function named `filter_non_negatives_from_args(*args)` which takes flexible inputs and returns non negative ones.\n",
    "\n",
    "- Expected inputs: `*args`.\n",
    "- Expected outputs: `list`."
   ]
  },
  {
   "cell_type": "code",
   "execution_count": 3,
   "metadata": {},
   "outputs": [],
   "source": [
    "def filter_non_negatives_from_args(*args) -> list:\n",
    "    \"\"\"\n",
    "    >>> filter_non_negatives_from_args(-3, -2, -1, 0, 1, 2, 3)\n",
    "    [0, 1, 2, 3]\n",
    "    >>> filter_non_negatives_from_args(-3, -2, -1, 0, 1, 2, 3, '4', '5')\n",
    "    [0, 1, 2, 3]\n",
    "    >>> filter_non_negatives_from_args(-3, -2, -1, False, True, 2, 3, '4', '5')\n",
    "    [False, True, 2, 3]\n",
    "    \"\"\"\n",
    "    ### BEGIN SOLUTION\n",
    "    positives = [arg for arg in args if (isinstance(arg, int)) and (arg >= 0)]\n",
    "    return positives\n",
    "    ### END SOLUTION"
   ]
  },
  {
   "cell_type": "markdown",
   "metadata": {},
   "source": [
    "## 03. Define a function named `uppercase_keys_from_kwargs(**kwargs)` which takes flexible inputs and returns keys in uppercased.\n",
    "\n",
    "- Expected inputs: `**kwargs`.\n",
    "- Expected outputs: `list`."
   ]
  },
  {
   "cell_type": "code",
   "execution_count": 4,
   "metadata": {},
   "outputs": [],
   "source": [
    "def uppercase_keys_from_kwargs(**kwargs) -> list:\n",
    "    \"\"\"\n",
    "    >>> uppercase_keys_from_kwargs(twn='Taiwan')\n",
    "    ['TWN']\n",
    "    >>> uppercase_keys_from_kwargs(twn='Taiwan', jpn='Japan')\n",
    "    ['TWN', 'JPN']\n",
    "    >>> uppercase_keys_from_kwargs(twn='Taiwan', jpn='Japan', ltu=\"Lithuania\")\n",
    "    ['TWN', 'JPN', 'LTU']\n",
    "    >>> uppercase_keys_from_kwargs(twn='Taiwan', jpn='Japan', ltu=\"Lithuania\", svn='Slovenia')\n",
    "    ['TWN', 'JPN', 'LTU', 'SVN']\n",
    "    \"\"\"\n",
    "    ### BEGIN SOLUTION\n",
    "    uppercased_keys = [k.upper() for k in kwargs.keys()]\n",
    "    return uppercased_keys\n",
    "    ### END SOLUTION"
   ]
  },
  {
   "cell_type": "markdown",
   "metadata": {},
   "source": [
    "## 04. Define a function named `count_number_of_each_vowel(x)` which counts the number of occurrence for each vowel in a given string.\n",
    "\n",
    "- Expected inputs: `str`.\n",
    "- Expected outputs: `dict`."
   ]
  },
  {
   "cell_type": "code",
   "execution_count": 5,
   "metadata": {},
   "outputs": [],
   "source": [
    "def count_number_of_each_vowel(x: str) -> dict:\n",
    "    \"\"\"\n",
    "    >>> count_number_of_each_vowel(\"Python\")\n",
    "    {'o': 1}\n",
    "    >>> count_number_of_each_vowel(\"Anaconda\")\n",
    "    {'a': 3, 'o': 1}\n",
    "    >>> count_number_of_each_vowel(\"Programming and Data Analysis\")\n",
    "    {'o': 1, 'a': 6, 'i': 2}\n",
    "    >>> count_number_of_each_vowel(\"National Taiwan University\")\n",
    "    {'a': 4, 'i': 4, 'o': 1, 'u': 1, 'e': 1}\n",
    "    \"\"\"\n",
    "    ### BEGIN SOLUTION\n",
    "    x_lower = x.lower()\n",
    "    out = dict()\n",
    "    for char in x_lower:\n",
    "        if char in {'a', 'e', 'i', 'o', 'u'}:\n",
    "            if char in out.keys():\n",
    "                out[char] += 1\n",
    "            elif char not in out.keys():\n",
    "                out[char] = 1\n",
    "    return out\n",
    "    ### END SOLUTION"
   ]
  },
  {
   "cell_type": "markdown",
   "metadata": {},
   "source": [
    "## 05. Define a class named `Palindrome` which instantiates objects with 2 attributes `original_text` and `reversed_text`, and 1 method `is_palindrome()`.\n",
    "\n",
    "- Expected inputs: `str`.\n",
    "- Expected outputs: `str`/`bool`."
   ]
  },
  {
   "cell_type": "code",
   "execution_count": 6,
   "metadata": {},
   "outputs": [],
   "source": [
    "class Palindrome:\n",
    "    \"\"\"\n",
    "    >>> palindrome = Palindrome('eye')\n",
    "    >>> palindrome.original_text\n",
    "    'eye'\n",
    "    >>> palindrome.reversed_text\n",
    "    'eye'\n",
    "    >>> palindrome.is_palindrome()\n",
    "    True\n",
    "    >>> palindrome = Palindrome('dye')\n",
    "    >>> palindrome.original_text\n",
    "    'dye'\n",
    "    >>> palindrome.reversed_text\n",
    "    'eyd'\n",
    "    >>> palindrome.is_palindrome()\n",
    "    False\n",
    "    \"\"\"\n",
    "    ### BEGIN SOLUTION\n",
    "    def __init__(self, x):\n",
    "        self.original_text = x\n",
    "        self.reversed_text = ''.join(list(reversed(x)))\n",
    "    def is_palindrome(self):\n",
    "        return self.original_text == self.reversed_text\n",
    "    ### END SOLUTION"
   ]
  },
  {
   "cell_type": "markdown",
   "metadata": {},
   "source": [
    "## 06. Define a class named `CommonDivisors` which instantiates objects with 2 attributes `x_divisors` and `y_divisors`, and 1 method `get_common_divisors()`.\n",
    "\n",
    "- Expected inputs: `int`.\n",
    "- Expected outputs: `set`."
   ]
  },
  {
   "cell_type": "code",
   "execution_count": 7,
   "metadata": {},
   "outputs": [],
   "source": [
    "class CommonDivisors:\n",
    "    \"\"\"\n",
    "    >>> cd = CommonDivisors(3, 6)\n",
    "    >>> cd.x_divisors\n",
    "    {1, 3}\n",
    "    >>> cd.y_divisors\n",
    "    {1, 2, 3, 6}\n",
    "    >>> cd.get_common_divisors()\n",
    "    {1, 3}\n",
    "    >>> cd = CommonDivisors(4, 8)\n",
    "    >>> cd.x_divisors\n",
    "    {1, 2, 4}\n",
    "    >>> cd.y_divisors\n",
    "    {1, 2, 4, 8}\n",
    "    >>> cd.get_common_divisors()\n",
    "    {1, 2, 4}\n",
    "    \"\"\"\n",
    "    ### BEGIN SOLUTION\n",
    "    def __init__(self, x, y):\n",
    "        self.x_divisors = {i for i in range(1, x + 1) if x % i == 0}\n",
    "        self.y_divisors = {i for i in range(1, y + 1) if y % i == 0}\n",
    "    def get_common_divisors(self):\n",
    "        return (self.x_divisors).intersection(self.y_divisors)\n",
    "    ### END SOLUTION"
   ]
  },
  {
   "cell_type": "markdown",
   "metadata": {},
   "source": [
    "## 07. Define a class named `PrimeJudgement` which instantiates objects with 2 methods `get_divisors()`, `is_prime()`.\n",
    "\n",
    "- Expected inputs: `int`.\n",
    "- Expected outputs: `set`/`bool`."
   ]
  },
  {
   "cell_type": "code",
   "execution_count": 8,
   "metadata": {},
   "outputs": [],
   "source": [
    "class PrimeJudgement:\n",
    "    \"\"\"\n",
    "    >>> pj = PrimeJudgement(1)\n",
    "    >>> pj.get_divisors()\n",
    "    {1}\n",
    "    >>> pj.is_prime()\n",
    "    False\n",
    "    >>> pj = PrimeJudgement(2)\n",
    "    >>> pj.get_divisors()\n",
    "    {1, 2}\n",
    "    >>> pj.is_prime()\n",
    "    True\n",
    "    >>> pj = PrimeJudgement(4)\n",
    "    >>> pj.get_divisors()\n",
    "    {1, 2, 4}\n",
    "    >>> pj.is_prime()\n",
    "    False\n",
    "    \"\"\"\n",
    "    ### BEGIN SOLUTION\n",
    "    def __init__(self, x):\n",
    "        self._x = x\n",
    "    def get_divisors(self):\n",
    "        return {i for i in range(1, self._x + 1) if self._x % i == 0}\n",
    "    def is_prime(self):\n",
    "        divisors = self.get_divisors()\n",
    "        return len(divisors) == 2\n",
    "    ### END SOLUTION"
   ]
  },
  {
   "cell_type": "markdown",
   "metadata": {},
   "source": [
    "## 08. Define a function named `load_teams_json` that is able to load `teams.json` in our working directory and returns a `dict`.\n",
    "\n",
    "Source: <https://docs.python.org/3/library/json.html>\n",
    "\n",
    "- Expected inputs: `str`\n",
    "- Expected outputs：`dict`."
   ]
  },
  {
   "cell_type": "code",
   "execution_count": 9,
   "metadata": {},
   "outputs": [],
   "source": [
    "def load_teams_json(x):\n",
    "    \"\"\"\n",
    "    >>> teams = load_teams_json('teams.json')\n",
    "    >>> type(teams)\n",
    "    dict\n",
    "    >>> len(teams)\n",
    "    2\n",
    "    >>> teams.keys()\n",
    "    dict_keys(['_internal', 'league'])\n",
    "    \"\"\"\n",
    "    ### BEGIN SOLUTION\n",
    "    with open(x) as f:\n",
    "        teams_json = json.load(f)\n",
    "    return teams_json\n",
    "    ### END SOLUTION"
   ]
  },
  {
   "cell_type": "markdown",
   "metadata": {},
   "source": [
    "## 09. Define a function named `find_team_full_names` that is able to extract the full names of 30 NBA teams.\n",
    "\n",
    "- Expected inputs: `str`\n",
    "- Expected outputs：`list`."
   ]
  },
  {
   "cell_type": "code",
   "execution_count": 10,
   "metadata": {},
   "outputs": [],
   "source": [
    "def find_team_full_names(x):\n",
    "    \"\"\"\n",
    "    >>> team_full_names = find_team_full_names('teams.json')\n",
    "    >>> type(team_full_names)\n",
    "    list\n",
    "    >>> len(team_full_names)\n",
    "    30\n",
    "    >>> team_full_names[:5]\n",
    "    ['Atlanta Hawks',\n",
    "     'Boston Celtics',\n",
    "     'Brooklyn Nets',\n",
    "     'Charlotte Hornets',\n",
    "     'Chicago Bulls']\n",
    "    >>> team_full_names[-5:]\n",
    "    ['Sacramento Kings',\n",
    "     'San Antonio Spurs',\n",
    "     'Toronto Raptors',\n",
    "     'Utah Jazz',\n",
    "     'Washington Wizards']\n",
    "    \"\"\"\n",
    "    ### BEGIN SOLUTION\n",
    "    teams_json = load_teams_json(x)\n",
    "    teams = teams_json['league']['standard']\n",
    "    full_names = [team['fullName'] for team in teams if team['isNBAFranchise']]\n",
    "    return full_names\n",
    "    ### END SOLUTION"
   ]
  },
  {
   "cell_type": "markdown",
   "metadata": {},
   "source": [
    "## 10. Define a function named `find_teams_with_special_tricodes` that is able to find teams whose tricode is not the first 3 letters of their full name in upper-cased. e.g. teams like Brooklyn Nets(BKN) and San Antonio Spurs(SAS) are what we are looking for. Teams like Boston Celtics(BOS) and LA Clippers(LAC) are NOT what we are looking for.\n",
    "\n",
    "- Expected inputs: `str`.\n",
    "- Expected outputs：`dict`."
   ]
  },
  {
   "cell_type": "code",
   "execution_count": 11,
   "metadata": {},
   "outputs": [],
   "source": [
    "def find_teams_with_special_tricodes(x):\n",
    "    \"\"\"\n",
    "    >>> teams_with_special_tricodes = find_teams_with_special_tricodes('teams.json')\n",
    "    >>> type(teams_with_special_tricodes)\n",
    "    dict\n",
    "    >>> len(teams_with_special_tricodes)\n",
    "    8\n",
    "    >>> teams_with_special_tricodes['BKN']\n",
    "    'Brooklyn Nets'\n",
    "    >>> teams_with_special_tricodes['SAS']\n",
    "    'San Antonio Spurs'\n",
    "    \"\"\"\n",
    "    ### BEGIN SOLUTION\n",
    "    teams_json = load_teams_json(x)\n",
    "    teams = teams_json['league']['standard']\n",
    "    special_tricodes = {}\n",
    "    for team in teams:\n",
    "        if team['isNBAFranchise']:\n",
    "            tricode = team['tricode']\n",
    "            full_name = team['fullName']\n",
    "            full_name_no_space = full_name.replace(\" \", \"\")\n",
    "            full_name_first_three_letters = full_name_no_space[:3]\n",
    "            if full_name_first_three_letters.upper() != tricode:\n",
    "                special_tricodes[tricode] = full_name\n",
    "    return special_tricodes\n",
    "    ### END SOLUTION"
   ]
  },
  {
   "cell_type": "markdown",
   "metadata": {},
   "source": [
    "## 執行測試！\n",
    "\n",
    "Kernel -> Restart Kernel And Run All Cells -> Restart"
   ]
  },
  {
   "cell_type": "code",
   "execution_count": 12,
   "metadata": {},
   "outputs": [
    {
     "name": "stderr",
     "output_type": "stream",
     "text": [
      "test_01_square_negatives_from_args (__main__.TestFunctionsClassesAndModules) ... ok\n",
      "test_02_filter_non_negatives_from_args (__main__.TestFunctionsClassesAndModules) ... ok\n",
      "test_03_uppercase_keys_from_kwargs (__main__.TestFunctionsClassesAndModules) ... ok\n",
      "test_04_count_number_of_each_vowel (__main__.TestFunctionsClassesAndModules) ... ok\n",
      "test_05_palindrome (__main__.TestFunctionsClassesAndModules) ... ok\n",
      "test_06_common_divisors (__main__.TestFunctionsClassesAndModules) ... ok\n",
      "test_07_prime_judgement (__main__.TestFunctionsClassesAndModules) ... ok\n",
      "test_08_load_teams_json (__main__.TestFunctionsClassesAndModules) ... ok\n",
      "test_09_find_team_full_names (__main__.TestFunctionsClassesAndModules) ... ok\n",
      "test_10_find_teams_with_special_tricodes (__main__.TestFunctionsClassesAndModules) ... ok\n",
      "\n",
      "----------------------------------------------------------------------\n",
      "Ran 10 tests in 0.069s\n",
      "\n",
      "OK\n"
     ]
    }
   ],
   "source": [
    "class TestFunctionsClassesAndModules(unittest.TestCase):\n",
    "    def test_01_square_negatives_from_args(self):\n",
    "        self.assertEqual(square_negatives_from_args(-3, -2, -1, 0, 1, 2, 3), [9, 4, 1])\n",
    "        self.assertEqual(square_negatives_from_args(-3, -2, -1, 0, 1, 2, 3, '4', '5'), [9, 4, 1])\n",
    "        self.assertEqual(square_negatives_from_args(-3, -2, -1, False, True, 2, 3, '4', '5'), [9, 4, 1])\n",
    "        self.assertEqual(square_negatives_from_args(-2, -1, 0), [4, 1])\n",
    "    def test_02_filter_non_negatives_from_args(self):\n",
    "        self.assertEqual(filter_non_negatives_from_args(-3, -2, -1, 0, 1, 2, 3), [0, 1, 2, 3])\n",
    "        self.assertEqual(filter_non_negatives_from_args(-3, -2, -1, 0, 1, 2, 3, '4', '5'), [0, 1, 2, 3])\n",
    "        self.assertEqual(filter_non_negatives_from_args(-3, -2, -1, False, True, 2, 3, '4', '5'), [False, True, 2, 3])\n",
    "    def test_03_uppercase_keys_from_kwargs(self):\n",
    "        self.assertEqual(uppercase_keys_from_kwargs(twn='Taiwan'), ['TWN'])\n",
    "        self.assertEqual(uppercase_keys_from_kwargs(twn='Taiwan', jpn='Japan'), ['TWN', 'JPN'])\n",
    "        self.assertEqual(uppercase_keys_from_kwargs(twn='Taiwan', jpn='Japan', ltu=\"Lithuania\"), ['TWN', 'JPN', 'LTU'])\n",
    "        self.assertEqual(uppercase_keys_from_kwargs(twn='Taiwan', jpn='Japan', ltu=\"Lithuania\", svn='Slovenia'), ['TWN', 'JPN', 'LTU', 'SVN'])\n",
    "        self.assertEqual(uppercase_keys_from_kwargs(usa='United States'), ['USA'])\n",
    "    def test_04_count_number_of_each_vowel(self):\n",
    "        self.assertEqual(count_number_of_each_vowel(\"Python\"), {'o': 1})\n",
    "        self.assertEqual(count_number_of_each_vowel(\"Anaconda\"), {'a': 3, 'o': 1})\n",
    "        self.assertEqual(count_number_of_each_vowel(\"Programming and Data Analysis\"), {'o': 1, 'a': 6, 'i': 2})\n",
    "        self.assertEqual(count_number_of_each_vowel(\"National Taiwan University\"), {'a': 4, 'i': 4, 'o': 1, 'u': 1, 'e': 1})\n",
    "    def test_05_palindrome(self):\n",
    "        eye = Palindrome('eye')\n",
    "        dye = Palindrome('dye')\n",
    "        anna = Palindrome('anna')\n",
    "        emma = Palindrome('emma')\n",
    "        self.assertEqual(eye.original_text, 'eye')\n",
    "        self.assertEqual(eye.reversed_text, 'eye')\n",
    "        self.assertTrue(eye.is_palindrome())\n",
    "        self.assertEqual(dye.original_text, 'dye')\n",
    "        self.assertEqual(dye.reversed_text, 'eyd')\n",
    "        self.assertFalse(dye.is_palindrome())\n",
    "        self.assertTrue(anna.is_palindrome())\n",
    "        self.assertFalse(emma.is_palindrome())\n",
    "    def test_06_common_divisors(self):\n",
    "        cd = CommonDivisors(3, 6)\n",
    "        self.assertEqual(cd.x_divisors, {1, 3})\n",
    "        self.assertEqual(cd.y_divisors, {1, 2, 3, 6})\n",
    "        self.assertEqual(cd.get_common_divisors(), {1, 3})\n",
    "        cd = CommonDivisors(4, 8)\n",
    "        self.assertEqual(cd.x_divisors, {1, 2, 4})\n",
    "        self.assertEqual(cd.y_divisors, {1, 2, 4, 8})\n",
    "        self.assertEqual(cd.get_common_divisors(), {1, 2, 4})\n",
    "        cd = CommonDivisors(4, 10)\n",
    "        self.assertEqual(cd.x_divisors, {1, 2, 4})\n",
    "        self.assertEqual(cd.y_divisors, {1, 2, 5, 10})\n",
    "        self.assertEqual(cd.get_common_divisors(), {1, 2})\n",
    "    def test_07_prime_judgement(self):\n",
    "        one = PrimeJudgement(1)\n",
    "        two = PrimeJudgement(2)\n",
    "        three = PrimeJudgement(3)\n",
    "        four = PrimeJudgement(4)\n",
    "        five = PrimeJudgement(5)\n",
    "        self.assertEqual(one.get_divisors(), {1})\n",
    "        self.assertFalse(one.is_prime())\n",
    "        self.assertEqual(two.get_divisors(), {1, 2})\n",
    "        self.assertTrue(two.is_prime())\n",
    "        self.assertEqual(four.get_divisors(), {1, 2, 4})\n",
    "        self.assertFalse(one.is_prime())\n",
    "        self.assertTrue(three.is_prime())\n",
    "        self.assertTrue(five.is_prime())\n",
    "    def test_08_load_teams_json(self):\n",
    "        teams = load_teams_json('teams.json')\n",
    "        self.assertIsInstance(teams, dict)\n",
    "        self.assertEqual(len(teams), 2)\n",
    "        self.assertIn('_internal', teams.keys())\n",
    "        self.assertIn('league', teams.keys())\n",
    "    def test_09_find_team_full_names(self):\n",
    "        team_full_names = find_team_full_names('teams.json')\n",
    "        self.assertIsInstance(team_full_names, list)\n",
    "        self.assertEqual(len(team_full_names), 30)\n",
    "        self.assertIn('Boston Celtics', team_full_names)\n",
    "        self.assertIn('Brooklyn Nets', team_full_names)\n",
    "        self.assertIn('Chicago Bulls', team_full_names)\n",
    "        self.assertIn('Utah Jazz', team_full_names)\n",
    "    def test_10_find_teams_with_special_tricodes(self):\n",
    "        teams_with_special_tricodes = find_teams_with_special_tricodes('teams.json')\n",
    "        self.assertIsInstance(teams_with_special_tricodes, dict)\n",
    "        self.assertEqual(teams_with_special_tricodes['BKN'], 'Brooklyn Nets')\n",
    "        self.assertEqual(teams_with_special_tricodes['SAS'], 'San Antonio Spurs')\n",
    "\n",
    "suite = unittest.TestLoader().loadTestsFromTestCase(TestFunctionsClassesAndModules)\n",
    "runner = unittest.TextTestRunner(verbosity=2)\n",
    "test_results = runner.run(suite)\n",
    "number_of_failures = len(test_results.failures)\n",
    "number_of_errors = len(test_results.errors)\n",
    "number_of_test_runs = test_results.testsRun\n",
    "number_of_successes = number_of_test_runs - (number_of_failures + number_of_errors)\n",
    "cwd = os.getcwd()\n",
    "folder_name = cwd.split(\"/\")[-1]\n",
    "with open(\"../exercise_index.json\", \"r\") as content:\n",
    "    exercise_index = json.load(content)\n",
    "chapter_name = exercise_index[folder_name]"
   ]
  },
  {
   "cell_type": "code",
   "execution_count": 13,
   "metadata": {},
   "outputs": [
    {
     "name": "stdout",
     "output_type": "stream",
     "text": [
      "你在「重要觀念複習：函數、類別與模組（套件）」章節中的 10 道 Python 練習答對了 10 題。\n"
     ]
    }
   ],
   "source": [
    "print(\"你在「{}」章節中的 {} 道 Python 練習答對了 {} 題。\".format(chapter_name, number_of_test_runs, number_of_successes))"
   ]
  }
 ],
 "metadata": {
  "kernelspec": {
   "display_name": "prgda",
   "language": "python",
   "name": "prgda"
  },
  "language_info": {
   "codemirror_mode": {
    "name": "ipython",
    "version": 3
   },
   "file_extension": ".py",
   "mimetype": "text/x-python",
   "name": "python",
   "nbconvert_exporter": "python",
   "pygments_lexer": "ipython3",
   "version": "3.10.0"
  }
 },
 "nbformat": 4,
 "nbformat_minor": 4
}
